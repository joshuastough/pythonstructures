{
 "cells": [
  {
   "cell_type": "markdown",
   "metadata": {},
   "source": [
    "# Data Structures (CS2) in Python\n",
    "### [Dr. Joshua Stough](http://joshuastough.com/), 2020\n",
    "\n",
    "<p style=\"text-align:center;\">\n",
    "    <a href=\"https://creativecommons.org/licenses/by-sa/4.0/\">\n",
    "        <img src=\"cc-license.png\" width=\"150\">\n",
    "    </a>\n",
    "</p>\n",
    "    "
   ]
  },
  {
   "cell_type": "code",
   "execution_count": null,
   "metadata": {},
   "outputs": [],
   "source": []
  },
  {
   "cell_type": "markdown",
   "metadata": {},
   "source": [
    "&nbsp;\n",
    "# Preface\n",
    "\n",
    "There is a quote that I like to use a lot:\n",
    "\n",
    "> If you can't describe what you are doing as a process, you don't know what you're doing.\n",
    "> <br>[*W. Edwards Deming*](https://en.wikipedia.org/wiki/W._Edwards_Deming)\n",
    "\n",
    "My corollary to this statement is that ***if you can*** describe what you're doing as a process, ***then you can tell a computer how to do it***. This idea animates much of Computer Science, insofar as we are formalizing the kinds of processes that we are familiar with, even implicitly, from our everyday experience. Such processes extend from solving trivial problems like computing the area of a rectangle or finding a particular word in a paragraph, to more complicated problems like sorting a list of numbers.\n",
    "\n",
    "When we write a computer program to solve a problem, we have so precisely specified the sequence of steps ; it is a recipe written in such detail that it cannot possibly be messed up.\n",
    "\n",
    "computers further allow us to scale these processes to previously unimaginable exents, from processing the millions of pixels of an image or video, .\n",
    "\n",
    "In this course we are concerned with the ***efficient interaction with and manipulation of collections of stuff***.  Certain ways of organizing data, and certain ways of interacting with data are somehow inherently better given the circumstances, so that this course will teach you advanced (read: good) programming concepts.  Abstract data types and Object-oriented programming, and efficient data structures, including queues, stacks, trees and maps. Analysis of algorithms, including worst-case, average-case, and amortized analysis. Extensive practice in implementing/manipulating these data structures in Python. "
   ]
  },
  {
   "cell_type": "markdown",
   "metadata": {},
   "source": [
    "&nbsp;\n",
    "# Topics\n",
    "\n",
    "1. [Basic Python elements](./review/basic_python_elements.ipynb)\n",
    "1. [List comprehensions](./review/list_comprehensions.ipynb)\n",
    "1. More stuff."
   ]
  },
  {
   "cell_type": "code",
   "execution_count": null,
   "metadata": {},
   "outputs": [],
   "source": []
  }
 ],
 "metadata": {
  "kernelspec": {
   "display_name": "Python 3",
   "language": "python",
   "name": "python3"
  },
  "language_info": {
   "codemirror_mode": {
    "name": "ipython",
    "version": 3
   },
   "file_extension": ".py",
   "mimetype": "text/x-python",
   "name": "python",
   "nbconvert_exporter": "python",
   "pygments_lexer": "ipython3",
   "version": "3.7.6"
  }
 },
 "nbformat": 4,
 "nbformat_minor": 4
}
