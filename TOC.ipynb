{
 "cells": [
  {
   "cell_type": "markdown",
   "metadata": {},
   "source": [
    "# Data Structures (CS2) in Python\n",
    "### [Dr. Joshua Stough](http://joshuastough.com/), 2020\n",
    "\n",
    "<p style=\"text-align:center;\">\n",
    "    <a href=\"https://creativecommons.org/licenses/by-sa/4.0/\">\n",
    "    <span>\n",
    "        <img src=\"https://creativecommons.org/images/deed/cc_icon_white_x2.png\" width=\"50\" style=\"background-color:#5577cc;\">\n",
    "        <img src=\"https://creativecommons.org/images/deed/attribution_icon_white_x2.png\" width=\"50\" style=\"background-color:#5577cc;\">\n",
    "        <img src=\"https://creativecommons.org/images/deed/sa_white_x2.png\" width=\"50\" style=\"background-color:#5577cc;\">\n",
    "    </span>\n",
    "    </a>\n",
    "</p>\n",
    "    "
   ]
  },
  {
   "cell_type": "markdown",
   "metadata": {},
   "source": [
    "&nbsp;\n",
    "# Topics\n",
    "\n",
    "1. Hello \n",
    "1. [List comprehensions](./review/list_comprehensions.ipynb)\n",
    "1. joshua"
   ]
  },
  {
   "cell_type": "code",
   "execution_count": null,
   "metadata": {},
   "outputs": [],
   "source": []
  }
 ],
 "metadata": {
  "kernelspec": {
   "display_name": "Python 3",
   "language": "python",
   "name": "python3"
  },
  "language_info": {
   "codemirror_mode": {
    "name": "ipython",
    "version": 3
   },
   "file_extension": ".py",
   "mimetype": "text/x-python",
   "name": "python",
   "nbconvert_exporter": "python",
   "pygments_lexer": "ipython3",
   "version": "3.7.6"
  }
 },
 "nbformat": 4,
 "nbformat_minor": 4
}
