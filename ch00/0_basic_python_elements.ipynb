{
 "cells": [
  {
   "cell_type": "markdown",
   "metadata": {},
   "source": [
    "# Basic Python Elements\n",
    "\n",
    "[![Open in Colab](https://colab.research.google.com/assets/colab-badge.svg)](https://colab.research.google.com/github/joshuastough/pythonstructures/blob/main/ch00/0_basic_python_elements.ipynb)\n",
    "\n",
    "This notebook is meant to be a short and incomplete review of elements of the Python programming language. More depth on particular aspects is provided in linked notebooks. However, if you are not at all familiar with programming or algorithm development, I encourage you to first learn [How to Think Like a Computer Scientist](https://runestone.academy/runestone/books/published/thinkcspy/index.html#). For a great quick and dirty review of Python, check out [LearnPython](https://www.learnpython.org/) or [LearnByExample](https://www.learnbyexample.org/python-introduction/).\n",
    "\n",
    "Most [useful](https://en.wikipedia.org/wiki/Turing_completeness) programming languages offer formal syntax for *six* elements of algorithms. With just these six elements, you can exactly define for the computer any process.\n",
    "\n",
    "Concepts to define, maybe:\n",
    "algorithm \n",
    "concept\n",
    "statement\n",
    "process/subprocess\n",
    "thread of execution\n",
    "\n",
    "## Six Elements of Programming Languages\n",
    "1. [**Variables**](#variables): You can assign a name to a specific data object. The data object is further an instance of a concept or *data type*. `x` and `y` could variables representing specific numbers.\n",
    "1. [**Expressions**](#expressions): In its simplest form, you can combine variables through *operators*. For example, `x + y` is the addition of the variables `x` and `y`. The word \"expression\" here is doing some pretty heavy lifting however: any bit of code that evaluates to a specific data object (with associated type) can be thought of as an expression: e.g, the above expression `x + y` evaluates to another number that is specific given the values of `x` and `y` at the moment of evaluation.\n",
    "1. [**Conditionals**](#condtitionals): You can change the thread of execution based on the current state of execution. `if` `x < y`, then do one thing, or `else` do something else. `x < y` is a *conditional expression* (evaluating to `True` or `False`), and `if/else` are keywords that separate the threads of execution represented by doing \"one thing\" or \"something else.\" \n",
    "1. [**Loops and Iteration**](#loops): You can repeat some subprocess either a fixed number of times or until some condition is met.\n",
    "1. [**Functional Abstraction**](#functions): You can assign a name to a specific process. In `def f(x,y)`, `f` is the name of a function that accepts `x` and `y` as parameters. Whatever sequence of devious things are done to `x` and `y`, we have assigned that sequence the name `f`, both for ease of use and to allow us to contruct even more complicated functions that make use of `f`.  Also `f(x,y)` can be called an *expression* that evaluates to whatever the function `f` returns.\n",
    "1. [**Data Abstraction**](#objects): You can define new concepts/data types that are composites of those already available. For example, we can define a `pair` of numbers `(x, y)` as the composite of `x` and `y`. With these new data types defined, you can make all the other elements of the programming language more powerful."
   ]
  },
  {
   "cell_type": "markdown",
   "metadata": {},
   "source": [
    "<a id='variables'></a>\n",
    "&nbsp;\n",
    "# Variables\n",
    "For more details about variables, types, and state, see [here](1_variables_types_state.ipynb).\n",
    "\n",
    "Variables are names, also called identifiers, that we assign to specific data objects. Some atomic, or very basic, *data types* are already provided by Python: \n",
    "- `int`: integer or whole number data type, or what in math might be denoted by $\\mathbb{Z}$. \n",
    "- `str`: string type, a sequence of characters.\n",
    "- `float`: decimal numbers, $\\mathbb{R}$.\n",
    "- `bool`: boolean, or truth values. There are only two possible values: true or false.  "
   ]
  },
  {
   "cell_type": "code",
   "execution_count": null,
   "metadata": {},
   "outputs": [],
   "source": [
    "x = 5\n",
    "s = 'hello'\n",
    "y = 20.001\n",
    "a = True \n",
    "i, j = 0, 1"
   ]
  },
  {
   "cell_type": "markdown",
   "metadata": {},
   "source": [
    "In the above cell, we perform several *assignment statements*, where an `=` sign separates a variable name on the left and some [expression](#expressions) on the right. For example, the first statement assigns the variable `x` the value 5, while the second assigns the variable `s` the string value 'hello'. The last line is actually a multiple assignment statement, with an equal number of variables on one side and expressions on the other. \n",
    "\n",
    "After executing the above cell (through **Shift+Enter**), we can print the value of any variable. For example:"
   ]
  },
  {
   "cell_type": "code",
   "execution_count": null,
   "metadata": {},
   "outputs": [],
   "source": [
    "# Execute the cell with Shift+Enter\n",
    "y"
   ]
  },
  {
   "cell_type": "code",
   "execution_count": null,
   "metadata": {},
   "outputs": [],
   "source": [
    "print(s)"
   ]
  },
  {
   "cell_type": "markdown",
   "metadata": {},
   "source": [
    "We can also display the types of the variables. "
   ]
  },
  {
   "cell_type": "code",
   "execution_count": null,
   "metadata": {},
   "outputs": [],
   "source": [
    "# should display 'int'\n",
    "type(x) "
   ]
  },
  {
   "cell_type": "code",
   "execution_count": null,
   "metadata": {},
   "outputs": [],
   "source": [
    "type(s)"
   ]
  },
  {
   "cell_type": "markdown",
   "metadata": {},
   "source": [
    "From the above cells we see `x` has `int`/integer type, while `s` has `str`/string type. Several things to note about the above few cells:\n",
    "- In one of the cells, I have added a *comment*, `#<text>`. Anything coming after a `#` on a line is not interpretted by the Python kernel. \n",
    "- Note that `type` is actually the name of a [function](#functions) that returns the type of the argument sent in, and `print` is the name of a function that prints out the value of the argument sent in.\n",
    "- Immutablity: objects of the types above *cannot be modified*. Think of it: if you add 1 to a number, you have a *different* number; if you try to change one character of a string, you have a *different* string. Note that reassigning a variable name, as in the statement `x = 1 + x`, is completely consistent with this immutability: the expression on the right of `=` is evaluated before the reassignment of the variable name on the left. For more, please see [here](1_variables_types_state.ipynb). \n",
    "- The `str`/string type can actually be thought of as an ordered sequence of characters. This type is thus not particularly \"atomic,\" in the sense of being inseparable, in the same way that a number or a truth value are. Still, because Python does not include an individual character type, it is useful to group `str` with the other atomic types above. For much more on the `str` type and string processing capability of Python, see [here](2_strings.ipynb)."
   ]
  },
  {
   "cell_type": "markdown",
   "metadata": {},
   "source": [
    "## Collection types and the F.A.R.M. operations\n",
    "As I repeatedly note throughout, in this course we think deeply about the ***efficient interaction with and manipulation of collections of stuff***. A topic left for later is how the organization of data within the collection affects this efficiency of interaction/manipulation.\n",
    "\n",
    "There are four principal operations for interacting with and manipulating any collection of stuff, that we will call the ***F.A.R.M ops: find, add, remove, modify***. As an example, consider the backpack as a collection of stuff (near and dear to us all, I know). What are the things we do with this collection of stuff?\n",
    "- **Find**: Find something in the backpack and/or determine whether that something is in the backpack.\n",
    "- **Add**: Add something to the backpack.\n",
    "- **Remove**: Remove something from the backpack.\n",
    "- **Modify**: Stretching the example a bit, you might want to add pencils to the pencil case, or otherewise modify one of the things already in the backpack. This is perhaps more of a derivative operation, in that it can be acheived through a composite find->remove->add. This is also commonly referred to as \"update.\"\n",
    "\n",
    "Python provides some native data types that can already represent collections of stuff, complicated enough to be called *structures* in the parlance of this book. These include:\n",
    "- [`list`](2_lists.ipynb): an ordered sequence of elements, where each element can be of any type. Elements can be accessed and manipulated through numerical indexing. For more on the `list` type, see [here](2_lists.ipynb) or the link at the beginning of this bullet.\n",
    "- [`dict`](2_dicts.ipynb): also called a dictionary, or associative array. This structure represents a collection of `key:value` pairs where no two `key`s are the same within a particular dictionary (instance). Values within the `dict` can be accessed and manipulated through the associated key. For more on the `dict` type, see [here](2_dicts.ipynb).\n",
    "- [`tuple`](2_tuples.ipynb): very much like a list, except that the elements in a tuple cannot be changed once you have made the tuple (immutability). See the link at the beginning of this list item.\n",
    "- [`set`](2_sets.ipynb): unordered collection of *unique* elements. Kind of like a dictionary, but without the values.\n",
    "\n",
    "[`tuple`](2_tuples.ipynb) and [`set`](2_sets.ipynb) types are initially covered in more depth [elsewhere](variables_types_state.ipynb). I'll only highlight some `list` and `dict` syntax here.\n",
    "\n",
    "\n",
    "### Lists\n",
    "Consider the list example:"
   ]
  },
  {
   "cell_type": "code",
   "execution_count": null,
   "metadata": {},
   "outputs": [],
   "source": [
    "alist = []"
   ]
  },
  {
   "cell_type": "markdown",
   "metadata": {},
   "source": [
    "Here, `alist` is assigned to an empty list. Note that square brackets `[]`denote the list. Inside the brackets is a comma-delimited sequence of elements."
   ]
  },
  {
   "cell_type": "code",
   "execution_count": null,
   "metadata": {},
   "outputs": [],
   "source": [
    "blist = [0, 1, 1, 2, 3]"
   ]
  },
  {
   "cell_type": "markdown",
   "metadata": {},
   "source": [
    "After executing the above cell, `blist` is a list containing the first five [Fibonacci](https://www.mathsisfun.com/numbers/fibonacci-sequence.html) numbers. \n",
    "\n",
    "Not all of the elements of a list need be the same type, though."
   ]
  },
  {
   "cell_type": "code",
   "execution_count": null,
   "metadata": {},
   "outputs": [],
   "source": [
    "ll = [12.1, 5, 'goodbye', [1,2,3], False]"
   ]
  },
  {
   "cell_type": "markdown",
   "metadata": {},
   "source": [
    "In the above cell, the variable name `ll` is assigned to a list containing an assortment of five data elements. These elements can be accessed through zero-based numerical indexing using square brackets []:"
   ]
  },
  {
   "cell_type": "code",
   "execution_count": null,
   "metadata": {},
   "outputs": [],
   "source": [
    "ll[0]"
   ]
  },
  {
   "cell_type": "code",
   "execution_count": null,
   "metadata": {},
   "outputs": [],
   "source": [
    "ll[2]"
   ]
  },
  {
   "cell_type": "code",
   "execution_count": null,
   "metadata": {},
   "outputs": [],
   "source": [
    "# ll[3] is a whole list on its own!\n",
    "ll[3]"
   ]
  },
  {
   "cell_type": "code",
   "execution_count": null,
   "metadata": {},
   "outputs": [],
   "source": [
    "ll"
   ]
  },
  {
   "cell_type": "markdown",
   "metadata": {},
   "source": [
    "Notice that the elements of the list `ll` span many types, including a `float` at index 0, a `str` at index 2, and even another `list` at index 3. Note that by executing the cell containing only the variable name `ll`, Colab prints the entire contents of the list, equivalent to prior cells where we use the `print` function. \n",
    "\n",
    "We can also use numerical indexing to modify the contents of `ll`:"
   ]
  },
  {
   "cell_type": "code",
   "execution_count": null,
   "metadata": {},
   "outputs": [],
   "source": [
    "ll[1] = 'hello'"
   ]
  },
  {
   "cell_type": "code",
   "execution_count": null,
   "metadata": {},
   "outputs": [],
   "source": [
    "print(ll)"
   ]
  },
  {
   "cell_type": "markdown",
   "metadata": {},
   "source": [
    "In the above cells, we have modified the list `ll` by reassigning the element `ll[1]` to be a new data object (in this case, the string `'hello'`), and then printed the list in its now modified state. \n",
    "\n",
    "The `list` type also provides methods that can be accessed through the dot operator `.`:"
   ]
  },
  {
   "cell_type": "code",
   "execution_count": null,
   "metadata": {},
   "outputs": [],
   "source": [
    "ll.append(2020)\n",
    "ll"
   ]
  },
  {
   "cell_type": "code",
   "execution_count": null,
   "metadata": {},
   "outputs": [],
   "source": [
    "ll.insert(1,'something')\n",
    "ll"
   ]
  },
  {
   "cell_type": "markdown",
   "metadata": {},
   "source": [
    "The above cells show the use of the `append` and `insert` methods of `list` objects. \n",
    "\n",
    "One more useful Python syntax for lists is [slicing](https://www.geeksforgeeks.org/python-list-slicing/). This allows us to access a sublist. If `somelist` is...some list, then `somelist[start:end:step]` will evaluate to the elements of the list from the index `start` up to but not including `end`, with a step size of `step`."
   ]
  },
  {
   "cell_type": "code",
   "execution_count": null,
   "metadata": {},
   "outputs": [],
   "source": [
    "ll[2:5]"
   ]
  },
  {
   "cell_type": "code",
   "execution_count": null,
   "metadata": {},
   "outputs": [],
   "source": [
    "letters = [chr(x) for x in range(ord('a'), ord('z')+1)]\n",
    "print(letters)"
   ]
  },
  {
   "cell_type": "code",
   "execution_count": null,
   "metadata": {},
   "outputs": [],
   "source": [
    "letters[:10] # indices 0-9, or the first 10"
   ]
  },
  {
   "cell_type": "code",
   "execution_count": null,
   "metadata": {},
   "outputs": [],
   "source": [
    "letters[2:20:3] # from 2, step size of 3, up to but not including 20"
   ]
  },
  {
   "cell_type": "markdown",
   "metadata": {},
   "source": [
    "In making the `letters` list above I leveraged [list comprehension](https://www.geeksforgeeks.org/comprehensions-in-python/). List comprehensions can be a quicker way to write some for-loop code. More info on that below in [Loops and Iteration](#loops)."
   ]
  },
  {
   "cell_type": "markdown",
   "metadata": {},
   "source": [
    "All available list methods can be found through:"
   ]
  },
  {
   "cell_type": "code",
   "execution_count": null,
   "metadata": {},
   "outputs": [],
   "source": [
    "# Thank you: https://stackoverflow.com/questions/34439/finding-what-methods-a-python-object-has\n",
    "[method_name for method_name in dir(list)\n",
    " if callable(getattr(list, method_name)) and '_' not in method_name]"
   ]
  },
  {
   "cell_type": "markdown",
   "metadata": {},
   "source": [
    "The above cell is obviously over our heads at this point, as it involves a list comprehension, a composite of looping, built-in functions, and conditional expressions. After finishing this notebook, you can work through much more on the `list` type [here](2_lists.ipynb).\n",
    "\n",
    "### Dictionaries\n",
    "A `dict`/dictionary, or associative array, is a collection of `key:value` pairs where the `key`s are unique within a particular `dict` instance. A `dict` is syntactically represented by curly brackets `{}`:"
   ]
  },
  {
   "cell_type": "code",
   "execution_count": null,
   "metadata": {},
   "outputs": [],
   "source": [
    "d = {}\n",
    "print(d)"
   ]
  },
  {
   "cell_type": "markdown",
   "metadata": {},
   "source": [
    "The variable name `d` here is assigned to an empty dictionary. However, we can add elements to, or find elements in, our dictionary through `[key]` indexing, as in:"
   ]
  },
  {
   "cell_type": "code",
   "execution_count": null,
   "metadata": {},
   "outputs": [],
   "source": [
    "d['a'] = 50.7\n",
    "d[14.7] = True\n",
    "d[17] = 'goofy'\n",
    "print(d)"
   ]
  },
  {
   "cell_type": "code",
   "execution_count": null,
   "metadata": {},
   "outputs": [],
   "source": [
    "# Find/access key 17\n",
    "d[17]"
   ]
  },
  {
   "cell_type": "code",
   "execution_count": null,
   "metadata": {},
   "outputs": [],
   "source": [
    "# Find key 'b'. An error is thrown when the key is missing.\n",
    "d['b']"
   ]
  },
  {
   "cell_type": "markdown",
   "metadata": {},
   "source": [
    "As you can see, a number of different types of objects can serve as `key` or `value`. `key`s are in fact restricted to be immutable types, such as the `int`, `str`, `float`, and `bool` types seen above, while `value`s can be of any type.\n",
    "\n",
    "We can also see from the above that if the dictionary does not contain the `key`, Python throws an exception type called a `KeyError`. \n",
    "\n",
    "`dict` objects also offer several methods"
   ]
  },
  {
   "cell_type": "code",
   "execution_count": null,
   "metadata": {},
   "outputs": [],
   "source": [
    "d.keys()"
   ]
  },
  {
   "cell_type": "code",
   "execution_count": null,
   "metadata": {},
   "outputs": [],
   "source": [
    "d.values()"
   ]
  },
  {
   "cell_type": "markdown",
   "metadata": {},
   "source": [
    "For much more details on the power of lists and dictionaries, click on [`list`](2_lists.ipynb) or [`dict`](2_dicts.ipynb)."
   ]
  },
  {
   "cell_type": "markdown",
   "metadata": {},
   "source": [
    "<a id='expressions'></a>\n",
    "&nbsp;\n",
    "## Expressions\n",
    "\n",
    "Expressions are probably the most broadly defined term here. Expressions can be thought of as any bit of code that evaluates to some kind of \"value.\" We've already seen expressions in the code cells above:\n",
    "- `y` or `ll`: expressions consisting of a single variable (identifier).\n",
    "- `'hello'` or `20.001`: literals, representing constant values. \n",
    "- `type(s)` or `d.keys()`: functional/procedural expressions involving the call operator `()`, here evaluating to `str` in the first case and some `dict_keys` structure in the latter. \n",
    "- `ll[3]` or `d[17]`: expressions that access elements of collections using the subscription operator `[]`. We'll see later these are actually also functional expressions, e.g. `ll.__getitem__(3)` in the first case. \n",
    "- `print(s)` or `ll.append(2020)`: expression *statements*, which usually *do* something through a procedure call/function (e.g., print a value, change a `list`), but *do not* evaluate to anything meaningful. Both examples here in fact return/evaluate to `None`, which we will see later. The thing that such expressions or statements do are called a *side effects*.\n",
    "\n",
    "Missing from the above are expressions involving [*arithmetic and boolean operators*](https://docs.python.org/3.8/library/operator.html#mapping-operators-to-functions), such as `+,-,*,/,//,**,%,<,<=,>,>=,!=`. These operators allow us to combine many of the expression types above to do more and more complicated things. Expressions are like the air we breathe in programming, so I won't belabor this section with too many examples, but here are a few to play around with."
   ]
  },
  {
   "cell_type": "code",
   "execution_count": null,
   "metadata": {},
   "outputs": [],
   "source": [
    "# x and y defined previously in this notebook \n",
    "x + y"
   ]
  },
  {
   "cell_type": "code",
   "execution_count": null,
   "metadata": {},
   "outputs": [],
   "source": [
    "# Is the literal 17 less than the value associated with 'a' in the dictionary d?\n",
    "17 < d['a']"
   ]
  },
  {
   "cell_type": "code",
   "execution_count": null,
   "metadata": {},
   "outputs": [],
   "source": [
    "# 2 to the power 10 is bit-shifted to the right by 10, leading to 2**0, or 1\n",
    "2**10 >> 10"
   ]
  },
  {
   "cell_type": "code",
   "execution_count": null,
   "metadata": {},
   "outputs": [],
   "source": [
    "# blist defined previously, this is a functional expression using the built-in 'sum' function.\n",
    "sum(blist)"
   ]
  },
  {
   "cell_type": "code",
   "execution_count": null,
   "metadata": {},
   "outputs": [],
   "source": [
    "s + ' ' + d[17]"
   ]
  },
  {
   "cell_type": "markdown",
   "metadata": {},
   "source": [
    "In the last cell observe the add operator `+` being used to \"add\" `str` type objects. This example of *operator overloading* is something we'll cover in more detail as we define our own object types. Defining such overloading for your own types can allow you to do a lot with very little Python code."
   ]
  },
  {
   "cell_type": "markdown",
   "metadata": {},
   "source": [
    "<a id='conditionals'></a>\n",
    "&nbsp;\n",
    "## Conditionals\n",
    "\n",
    "Up to this point we have been dealing with code segments that are really just simple expressions, combinations of variables and function calls. We could construct procedural solutions for a variety of problems using just these elements. \n",
    "\n",
    "Another key programming language requirement is to support conditional execution, where the thread of execution depends of the current state of execution. Such `if/else` statements allow us to look at what is being computed and *decide* to do one thing or another.\n",
    "\n",
    "In this example we'll also use the [`input`](https://docs.python.org/3.8/library/functions.html#input) function to get user (your) input. With a human in the loop, there's no telling what will happen! We'll also use [f-strings](https://docs.python.org/3.8/tutorial/inputoutput.html) for output. "
   ]
  },
  {
   "cell_type": "code",
   "execution_count": null,
   "metadata": {},
   "outputs": [],
   "source": [
    "n = input('Pick a number in [0,100]: ')\n",
    "\n",
    "print(f'You gave me {n}')"
   ]
  },
  {
   "cell_type": "code",
   "execution_count": null,
   "metadata": {},
   "outputs": [],
   "source": [
    "n, type(n)"
   ]
  },
  {
   "cell_type": "markdown",
   "metadata": {},
   "source": [
    "You can see we'll have to cast the input to a number, like an `int` type, in order to ask about the input's value. \n",
    "\n",
    "By the way, if you didn't enter a number above when prompted, you could receive an error below."
   ]
  },
  {
   "cell_type": "code",
   "execution_count": null,
   "metadata": {},
   "outputs": [],
   "source": [
    "n = int(n)"
   ]
  },
  {
   "cell_type": "code",
   "execution_count": null,
   "metadata": {},
   "outputs": [],
   "source": [
    "if n < 50:\n",
    "    print('You picked a number less than 50.')\n",
    "else:\n",
    "    print('You picked a number at least 50.')"
   ]
  },
  {
   "cell_type": "markdown",
   "metadata": {},
   "source": [
    "In the above we check if the input was less than 50, and based on that condition, we print one output or another. We can also combine multiple possibilities."
   ]
  },
  {
   "cell_type": "code",
   "execution_count": null,
   "metadata": {},
   "outputs": [],
   "source": [
    "if n < 25:\n",
    "    print(f'{n} is less than 25.')\n",
    "elif n < 50:\n",
    "    print(f'{n} is in [25, 50).')\n",
    "elif n < 75:\n",
    "    print(f'{n} is in [50,75).')\n",
    "else:\n",
    "    print(f'{n} is greater than 75.')"
   ]
  },
  {
   "cell_type": "markdown",
   "metadata": {},
   "source": [
    "<a id='loops'></a>\n",
    "&nbsp;\n",
    "## Loops and Iteration\n",
    "\n",
    "Every useful programming language provides a means of iterating over sequences or collections. This allows us for example to write a little code that gets executed a lot of times, very useful when we need to do something a large number of times (for every element in a list, for every key in a dictionary, for every character in a string, for every line in a file, ...). "
   ]
  },
  {
   "cell_type": "code",
   "execution_count": 4,
   "metadata": {},
   "outputs": [
    {
     "name": "stdout",
     "output_type": "stream",
     "text": [
      "['A', 'nim-nim', 'was', 'a', 'banana-like', 'fruit', 'on', 'Booboo.']\n"
     ]
    }
   ],
   "source": [
    "someString = 'A nim-nim was a banana-like fruit on Booboo.'\n",
    "print(someString.split())"
   ]
  },
  {
   "cell_type": "code",
   "execution_count": 5,
   "metadata": {},
   "outputs": [
    {
     "name": "stdout",
     "output_type": "stream",
     "text": [
      "A\n",
      "nim-nim\n",
      "was\n",
      "a\n",
      "banana-like\n",
      "fruit\n",
      "on\n",
      "Booboo.\n"
     ]
    }
   ],
   "source": [
    "for word in someString.split():\n",
    "    print(word)"
   ]
  },
  {
   "cell_type": "markdown",
   "metadata": {},
   "source": [
    "Above we take a `str` variable and call [`str.split()`](https://docs.python.org/3.8/library/stdtypes.html?highlight=split#str.split) on it, which returns a list of the words in the string. We can then loop over the elements of this list (the words of the original string). (ref. [The Sisters B-36](https://www.reddit.com/r/a:t5_31ywq/comments/26sypy/the_sisters_b36/))\n",
    "\n",
    "We could also use a for loop to, for example, count the number of times a particular letter shows up in a string:"
   ]
  },
  {
   "cell_type": "code",
   "execution_count": 6,
   "metadata": {},
   "outputs": [
    {
     "name": "stdout",
     "output_type": "stream",
     "text": [
      "4\n"
     ]
    }
   ],
   "source": [
    "count = 0\n",
    "lookfor = 'i'\n",
    "for c in someString:\n",
    "    if c == lookfor:\n",
    "        count += 1\n",
    "print(count)"
   ]
  },
  {
   "cell_type": "markdown",
   "metadata": {},
   "source": [
    "Such common actions as counting occurances often have Built-ins in Python (e.g., [`someString.count('i')`](https://docs.python.org/3.8/library/stdtypes.html#str.count) above).\n",
    "\n",
    "Python also uses some of the same looping syntax in [list comprehensions](https://www.geeksforgeeks.org/comprehensions-in-python/). For example, we could use either a for loop or a list comprehension to generate the list of the first 20 perfect squares."
   ]
  },
  {
   "cell_type": "code",
   "execution_count": 11,
   "metadata": {},
   "outputs": [
    {
     "name": "stdout",
     "output_type": "stream",
     "text": [
      "for list          : [1, 4, 9, 16, 25, 36, 49, 64, 81, 100, 121, 144, 169, 196, 225, 256, 289, 324, 361, 400]\n",
      "comprehension list: [1, 4, 9, 16, 25, 36, 49, 64, 81, 100, 121, 144, 169, 196, 225, 256, 289, 324, 361, 400]\n",
      "The lists are equal.\n"
     ]
    }
   ],
   "source": [
    "for_list = []\n",
    "for x in range(1,21):\n",
    "    for_list.append(x**2)\n",
    "    \n",
    "# List comprehension here.\n",
    "comp_list = [x**2 for x in range(1,21)]\n",
    "\n",
    "print(f'for list          : {for_list}')\n",
    "print(f'comprehension list: {comp_list}')\n",
    "\n",
    "print(f'The lists {\"are\" if for_list==comp_list else \"are NOT\"} equal.')"
   ]
  },
  {
   "cell_type": "markdown",
   "metadata": {},
   "source": [
    "The above cell also includes a pretty complicated format string. The conditional expression `x if cond else y` evaluates to `x` when `cond` is `True` or else `y` if `cond` is `False`. Given the conditional expression in the format string above, if the two lists were different the expression would evaluate to `\"are NOT\"`.\n",
    "\n",
    "\n",
    "One other form of looping worthy of a note here is the `while` loop. Whereas a for loop usually denotes a fixed number of iterations, the while loop does not. We'll demonstrate a while loop through converting a decimal integer to binary."
   ]
  },
  {
   "cell_type": "markdown",
   "metadata": {},
   "source": [
    "<a id='functions'></a>\n",
    "&nbsp;\n",
    "## Functional Abstraction"
   ]
  },
  {
   "cell_type": "code",
   "execution_count": null,
   "metadata": {},
   "outputs": [],
   "source": []
  },
  {
   "cell_type": "markdown",
   "metadata": {},
   "source": [
    "<a id='objects'></a>\n",
    "&nbsp;\n",
    "## Data Abstraction"
   ]
  },
  {
   "cell_type": "code",
   "execution_count": null,
   "metadata": {},
   "outputs": [],
   "source": []
  }
 ],
 "metadata": {
  "kernelspec": {
   "display_name": "Python 3",
   "language": "python",
   "name": "python3"
  },
  "language_info": {
   "codemirror_mode": {
    "name": "ipython",
    "version": 3
   },
   "file_extension": ".py",
   "mimetype": "text/x-python",
   "name": "python",
   "nbconvert_exporter": "python",
   "pygments_lexer": "ipython3",
   "version": "3.7.6"
  }
 },
 "nbformat": 4,
 "nbformat_minor": 4
}
