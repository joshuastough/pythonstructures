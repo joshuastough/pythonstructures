{
 "cells": [
  {
   "cell_type": "markdown",
   "metadata": {},
   "source": [
    "# Basic Python Elements\n",
    "\n",
    "[![Open in Colab](https://colab.research.google.com/assets/colab-badge.svg)](https://colab.research.google.com/github/joshuastough/pythonstructures/blob/main/ch00/0_basic_python_elements.ipynb)\n",
    "\n",
    "This notebook is meant to be a short and incomplete review of elements of the Python programming language. More depth on particular aspects is provided in linked notebooks. However, if you are not at all familiar with programming or algorithm development, I encourage you to first learn [How to Think Like a Computer Scientist](https://runestone.academy/runestone/books/published/thinkcspy/index.html#). For at least as good quick and dirty reviews of Python, check out [LearnPython](https://www.learnpython.org/) or [LearnByExample](https://www.learnbyexample.org/python-introduction/).\n",
    "\n",
    "Most [useful](https://en.wikipedia.org/wiki/Turing_completeness) programming languages offer formal syntax for *six* elements of algorithms. With just these six elements, you can exactly define for the computer most any process.\n",
    "\n",
    "Concepts to define, maybe:\n",
    "algorithm, \n",
    "concept,\n",
    "statement,\n",
    "process/subprocess,\n",
    "thread of execution\n",
    "\n",
    "## Six Elements of Programming Languages\n",
    "1. [**Variables**](#variables): You can assign a name to a specific data object. The data object is further an instance of a concept or *data type*. `x` and `y` could variables representing specific numbers.\n",
    "1. [**Expressions**](#expressions): In its simplest form, you can combine variables through *operators*. For example, `x + y` is the addition of the variables `x` and `y`. The word \"expression\" here is doing some pretty heavy lifting however: any bit of code that evaluates to a specific data object (with associated type) can be thought of as an expression: e.g, the above expression `x + y` evaluates to another number that is specific given the values of `x` and `y` at the moment of evaluation.\n",
    "1. [**Conditionals**](#condtitionals): You can change the thread of execution based on the current state of execution. `if` `x < y`, then do one thing, or `else` do something else. `x < y` is a *conditional expression* (evaluating to `True` or `False`), and `if/else` are keywords that separate the threads of execution represented by doing \"one thing\" or \"something else.\" \n",
    "1. [**Loops and Iteration**](#loops): You can repeat some subprocess either a fixed number of times or until some condition is met.\n",
    "1. [**Functional Abstraction**](#functions): You can assign a name to a specific process. In `def f(x,y)`, `f` is the name of a function that accepts `x` and `y` as parameters. Whatever sequence of devious things are done to `x` and `y`, we have assigned that sequence the name `f`, both for ease of use and to allow us to contruct even more complicated functions that make use of `f`.  Also `f(x,y)` can be called an *expression* that evaluates to whatever the function `f` returns.\n",
    "1. [**Data Abstraction**](#objects): You can define new concepts/data types that are composites of those already available. For example, we can define a `pair` of numbers `(x, y)` as the composite of `x` and `y`. For example a rectange could be such a composite of a height `h` and a width `w`. With these new data types defined, you can make all the other elements of the programming language more powerful (i.e., object methods that might compute the area or perimeter of such a rectangle, or add two rectangles together). "
   ]
  },
  {
   "cell_type": "markdown",
   "metadata": {},
   "source": [
    "<a id='variables'></a>\n",
    "&nbsp;\n",
    "# Variables\n",
    "For more details about variables, types, and state, see [here](1_variables_types_state.ipynb).\n",
    "\n",
    "Variables are names, also called identifiers, that we assign to specific data objects. Some atomic, or very basic, *data types* are already provided by Python: \n",
    "- `int`: integer or whole number data type, or what in math might be denoted by $\\mathbb{Z}$. \n",
    "- `str`: string type, a sequence of characters.\n",
    "- `float`: decimal numbers, $\\mathbb{R}$.\n",
    "- `bool`: boolean, or truth values. There are only two possible values: true or false.  "
   ]
  },
  {
   "cell_type": "code",
   "execution_count": null,
   "metadata": {},
   "outputs": [],
   "source": [
    "x = 5\n",
    "s = 'hello'\n",
    "y = 20.001\n",
    "a = True \n",
    "i, j = 0, 1"
   ]
  },
  {
   "cell_type": "markdown",
   "metadata": {},
   "source": [
    "In the above cell, we perform several *assignment statements*, where an `=` sign separates a variable name on the left and some [expression](#expressions) on the right. For example, the first statement assigns the variable `x` the value 5, while the second assigns the variable `s` the string value 'hello'. The last line is actually a multiple assignment statement, with an equal number of variables on one side and expressions on the other. \n",
    "\n",
    "After executing the above cell (through **Shift+Enter**), we can print the value of any variable. For example:"
   ]
  },
  {
   "cell_type": "code",
   "execution_count": null,
   "metadata": {},
   "outputs": [],
   "source": [
    "# Execute the cell with Shift+Enter\n",
    "y"
   ]
  },
  {
   "cell_type": "code",
   "execution_count": null,
   "metadata": {},
   "outputs": [],
   "source": [
    "print(s)"
   ]
  },
  {
   "cell_type": "markdown",
   "metadata": {},
   "source": [
    "We can also display the types of the variables. "
   ]
  },
  {
   "cell_type": "code",
   "execution_count": null,
   "metadata": {},
   "outputs": [],
   "source": [
    "# should display 'int'\n",
    "type(x) "
   ]
  },
  {
   "cell_type": "code",
   "execution_count": null,
   "metadata": {},
   "outputs": [],
   "source": [
    "type(s)"
   ]
  },
  {
   "cell_type": "markdown",
   "metadata": {},
   "source": [
    "From the above cells we see `x` has `int`/integer type, while `s` has `str`/string type. Several things to note about the above few cells:\n",
    "- In one of the cells, I have added a *comment*, `#<text>`. Anything coming after a `#` on a line is not interpreted by the Python kernel. \n",
    "- Note that `type` is actually the name of a [function](#functions) that returns the type of the argument sent in, and `print` is the name of a function that prints out the value of the argument sent in.\n",
    "- Immutablity: objects of the types above *cannot be modified*. Think of it: if you add 1 to a number, you have a *different* number; if you try to change one character of a string, you have a *different* string. Note that reassigning a variable name, as in the statement `x = 1 + x`, is completely consistent with this immutability: the expression on the right of `=` is evaluated before the reassignment of the variable name on the left. For more, please see [here](1_variables_types_state.ipynb). \n",
    "- The `str`/string type can actually be thought of as an ordered sequence of characters. This type is thus not particularly \"atomic,\" in the sense of being inseparable, in the same way that a number or a truth value are. Still, because Python does not include an individual character type, it is useful to group `str` with the other atomic types above. For much more on the `str` type and string processing capability of Python, see [here](2_strings.ipynb)."
   ]
  },
  {
   "cell_type": "markdown",
   "metadata": {},
   "source": [
    "## Collection types and the F.A.R.M. operations\n",
    "As I repeatedly note throughout, in this course we think deeply about the ***efficient interaction with and manipulation of collections of stuff***. A topic left for later is how the organization of data within the collection affects this efficiency of interaction/manipulation.\n",
    "\n",
    "There are four principal operations for interacting with and manipulating any collection of stuff, that we will call the ***F.A.R.M ops: find, add, remove, modify***. As an example, consider the backpack as a collection of stuff (near and dear to us all, I know). What are the things we do with this collection of stuff?\n",
    "- **Find**: Find something in the backpack and/or determine whether that something is in the backpack.\n",
    "- **Add**: Add something to the backpack.\n",
    "- **Remove**: Remove something from the backpack.\n",
    "- **Modify**: Stretching the example a bit, you might want to add pencils to the pencil case, or otherewise modify one of the things already in the backpack. This is perhaps more of a derivative operation, in that it can be acheived through a composite find->remove->add. This is also commonly referred to as \"update.\"\n",
    "\n",
    "Python provides some native data types that can already represent collections of stuff, complicated enough to be called *structures* in the parlance of this book. These include:\n",
    "- [`list`](2_lists.ipynb): an ordered sequence of elements, where each element can be of any type. Elements can be accessed and manipulated through numerical indexing. For more on the `list` type, see [here](2_lists.ipynb) or the link at the beginning of this bullet.\n",
    "- [`dict`](2_dicts.ipynb): also called a dictionary, or associative array. This structure represents a collection of `key:value` pairs where no two `key`s are the same within a particular dictionary (instance). Values within the `dict` can be accessed and manipulated through the associated key. For more on the `dict` type, see [here](2_dicts.ipynb).\n",
    "- [`tuple`](2_tuples.ipynb): very much like a list, except that the elements in a tuple cannot be changed once you have made the tuple (immutability). See the link at the beginning of this list item.\n",
    "- [`set`](2_sets.ipynb): unordered collection of *unique* elements. Kind of like a dictionary, but without the values.\n",
    "\n",
    "[`tuple`](2_tuples.ipynb) and [`set`](2_sets.ipynb) types are initially covered in more depth [elsewhere](variables_types_state.ipynb). I'll only highlight some `list` and `dict` syntax here.\n",
    "\n",
    "\n",
    "### Lists\n",
    "Consider the list example:"
   ]
  },
  {
   "cell_type": "code",
   "execution_count": null,
   "metadata": {},
   "outputs": [],
   "source": [
    "alist = []"
   ]
  },
  {
   "cell_type": "markdown",
   "metadata": {},
   "source": [
    "Here, `alist` is assigned to an empty list. Note that square brackets `[]`denote the list. Inside the brackets is a comma-delimited sequence of elements."
   ]
  },
  {
   "cell_type": "code",
   "execution_count": null,
   "metadata": {},
   "outputs": [],
   "source": [
    "blist = [0, 1, 1, 2, 3]"
   ]
  },
  {
   "cell_type": "markdown",
   "metadata": {},
   "source": [
    "After executing the above cell, `blist` is a list containing the first five [Fibonacci](https://www.mathsisfun.com/numbers/fibonacci-sequence.html) numbers. \n",
    "\n",
    "Not all of the elements of a list need be the same type, though."
   ]
  },
  {
   "cell_type": "code",
   "execution_count": null,
   "metadata": {},
   "outputs": [],
   "source": [
    "ll = [12.1, 5, 'goodbye', [1,2,3], False]"
   ]
  },
  {
   "cell_type": "markdown",
   "metadata": {},
   "source": [
    "In the above cell, the variable name `ll` is assigned to a list containing an assortment of five data elements. These elements can be accessed through zero-based numerical indexing using square brackets []:"
   ]
  },
  {
   "cell_type": "code",
   "execution_count": null,
   "metadata": {},
   "outputs": [],
   "source": [
    "ll[0]"
   ]
  },
  {
   "cell_type": "code",
   "execution_count": null,
   "metadata": {},
   "outputs": [],
   "source": [
    "ll[2]"
   ]
  },
  {
   "cell_type": "code",
   "execution_count": null,
   "metadata": {},
   "outputs": [],
   "source": [
    "# ll[3] is a whole list on its own!\n",
    "ll[3]"
   ]
  },
  {
   "cell_type": "code",
   "execution_count": null,
   "metadata": {},
   "outputs": [],
   "source": [
    "ll"
   ]
  },
  {
   "cell_type": "markdown",
   "metadata": {},
   "source": [
    "Notice that the elements of the list `ll` span many types, including a `float` at index 0, a `str` at index 2, and even another `list` at index 3. Note that by executing the cell containing only the variable name `ll`, Colab prints the entire contents of the list, equivalent to prior cells where we use the `print` function. \n",
    "\n",
    "We can also use numerical indexing to modify the contents of `ll`:"
   ]
  },
  {
   "cell_type": "code",
   "execution_count": null,
   "metadata": {},
   "outputs": [],
   "source": [
    "ll[1] = 'hello'"
   ]
  },
  {
   "cell_type": "code",
   "execution_count": null,
   "metadata": {},
   "outputs": [],
   "source": [
    "print(ll)"
   ]
  },
  {
   "cell_type": "markdown",
   "metadata": {},
   "source": [
    "In the above cells, we have modified the list `ll` by reassigning the element `ll[1]` to be a new data object (in this case, the string `'hello'`), and then printed the list in its now modified state. \n",
    "\n",
    "The `list` type also provides methods that can be accessed through the dot operator `.`:"
   ]
  },
  {
   "cell_type": "code",
   "execution_count": null,
   "metadata": {},
   "outputs": [],
   "source": [
    "ll.append(2020)\n",
    "ll"
   ]
  },
  {
   "cell_type": "code",
   "execution_count": null,
   "metadata": {},
   "outputs": [],
   "source": [
    "ll.insert(1,'something')\n",
    "ll"
   ]
  },
  {
   "cell_type": "markdown",
   "metadata": {},
   "source": [
    "The above cells show the use of the `append` and `insert` methods of `list` objects. \n",
    "\n",
    "One more useful Python syntax for lists is [slicing](https://www.geeksforgeeks.org/python-list-slicing/). This allows us to access a sublist. If `somelist` is...some list, then `somelist[start:end:step]` will evaluate to the elements of the list from the index `start` up to but not including `end`, with a step size of `step`."
   ]
  },
  {
   "cell_type": "code",
   "execution_count": null,
   "metadata": {},
   "outputs": [],
   "source": [
    "ll[2:5]"
   ]
  },
  {
   "cell_type": "code",
   "execution_count": null,
   "metadata": {},
   "outputs": [],
   "source": [
    "letters = [chr(x) for x in range(ord('a'), ord('z')+1)]\n",
    "print(letters)"
   ]
  },
  {
   "cell_type": "code",
   "execution_count": null,
   "metadata": {},
   "outputs": [],
   "source": [
    "letters[:10] # indices 0-9, or the first 10"
   ]
  },
  {
   "cell_type": "code",
   "execution_count": null,
   "metadata": {},
   "outputs": [],
   "source": [
    "letters[2:20:3] # from 2, step size of 3, up to but not including 20"
   ]
  },
  {
   "cell_type": "markdown",
   "metadata": {},
   "source": [
    "In making the `letters` list above I leveraged [list comprehension](https://www.geeksforgeeks.org/comprehensions-in-python/). List comprehensions can be a quicker way to write some for-loop code. More info on that below in [Loops and Iteration](#loops)."
   ]
  },
  {
   "cell_type": "markdown",
   "metadata": {},
   "source": [
    "All available list methods can be found through:"
   ]
  },
  {
   "cell_type": "code",
   "execution_count": null,
   "metadata": {},
   "outputs": [],
   "source": [
    "# Thank you: https://stackoverflow.com/questions/34439/finding-what-methods-a-python-object-has\n",
    "[method_name for method_name in dir(list)\n",
    " if callable(getattr(list, method_name)) and '_' not in method_name]"
   ]
  },
  {
   "cell_type": "markdown",
   "metadata": {},
   "source": [
    "The above cell is obviously over our heads at this point, as it involves a list comprehension, a composite of looping, built-in functions, and conditional expressions. After finishing this notebook, you can work through much more on the `list` type [here](2_lists.ipynb).\n",
    "\n",
    "### Dictionaries\n",
    "A `dict`/dictionary, or associative array, is a collection of `key:value` pairs where the `key`s are unique within a particular `dict` instance. A `dict` is syntactically represented by curly brackets `{}`:"
   ]
  },
  {
   "cell_type": "code",
   "execution_count": null,
   "metadata": {},
   "outputs": [],
   "source": [
    "d = {}\n",
    "print(d)"
   ]
  },
  {
   "cell_type": "markdown",
   "metadata": {},
   "source": [
    "The variable name `d` here is assigned to an empty dictionary. However, we can add elements to, or find elements in, our dictionary through `[key]` indexing, as in:"
   ]
  },
  {
   "cell_type": "code",
   "execution_count": null,
   "metadata": {},
   "outputs": [],
   "source": [
    "d['a'] = 50.7\n",
    "d[14.7] = True\n",
    "d[17] = 'goofy'\n",
    "print(d)"
   ]
  },
  {
   "cell_type": "code",
   "execution_count": null,
   "metadata": {},
   "outputs": [],
   "source": [
    "# Find/access key 17\n",
    "d[17]"
   ]
  },
  {
   "cell_type": "code",
   "execution_count": null,
   "metadata": {},
   "outputs": [],
   "source": [
    "# Find key 'b'. An error is thrown when the key is missing.\n",
    "d['b']"
   ]
  },
  {
   "cell_type": "markdown",
   "metadata": {},
   "source": [
    "As you can see, a number of different types of objects can serve as `key` or `value`. `key`s are in fact restricted to be immutable types, such as the `int`, `str`, `float`, and `bool` types seen above, while `value`s can be of any type.\n",
    "\n",
    "We can also see from the above that if the dictionary does not contain the `key`, Python throws an exception type called a `KeyError`. \n",
    "\n",
    "`dict` objects also offer several methods"
   ]
  },
  {
   "cell_type": "code",
   "execution_count": null,
   "metadata": {},
   "outputs": [],
   "source": [
    "d.keys()"
   ]
  },
  {
   "cell_type": "code",
   "execution_count": null,
   "metadata": {},
   "outputs": [],
   "source": [
    "d.values()"
   ]
  },
  {
   "cell_type": "markdown",
   "metadata": {},
   "source": [
    "For much more details on the power of lists and dictionaries, click on [`list`](2_lists.ipynb) or [`dict`](2_dicts.ipynb)."
   ]
  },
  {
   "cell_type": "markdown",
   "metadata": {},
   "source": [
    "<a id='expressions'></a>\n",
    "&nbsp;\n",
    "## Expressions\n",
    "\n",
    "Expressions are probably the most broadly defined term here. Expressions can be thought of as any bit of code that evaluates to some kind of \"value.\" We've already seen expressions in the code cells above:\n",
    "- `y` or `ll`: expressions consisting of a single variable (identifier).\n",
    "- `'hello'` or `20.001`: literals, representing constant values. \n",
    "- `type(s)` or `d.keys()`: functional/procedural expressions involving the call operator `()`, here evaluating to `str` in the first case and some `dict_keys` structure in the latter. \n",
    "- `ll[3]` or `d[17]`: expressions that access elements of collections using the subscription operator `[]`. We'll see later these are actually also functional expressions, e.g. `ll.__getitem__(3)` in the first case. \n",
    "- `print(s)` or `ll.append(2020)`: expression *statements*, which usually *do* something through a procedure call/function (e.g., print a value, change a `list`), but *do not* evaluate to anything meaningful. Both examples here in fact return/evaluate to `None`, which we will see later. The thing that such expressions or statements do are called a *side effects*.\n",
    "\n",
    "Missing from the above are expressions involving [*arithmetic and boolean operators*](https://docs.python.org/3.8/library/operator.html#mapping-operators-to-functions), such as `+,-,*,/,//,**,%,<,<=,>,>=,!=`. These operators allow us to combine many of the expression types above to do more and more complicated things. Expressions are like the air we breathe in programming, so I won't belabor this section with too many examples, but here are a few to play around with."
   ]
  },
  {
   "cell_type": "code",
   "execution_count": null,
   "metadata": {},
   "outputs": [],
   "source": [
    "# x and y defined previously in this notebook \n",
    "x + y"
   ]
  },
  {
   "cell_type": "code",
   "execution_count": null,
   "metadata": {},
   "outputs": [],
   "source": [
    "# Is the literal 17 less than the value associated with 'a' in the dictionary d?\n",
    "17 < d['a']"
   ]
  },
  {
   "cell_type": "code",
   "execution_count": null,
   "metadata": {},
   "outputs": [],
   "source": [
    "# 2 to the power 10 is bit-shifted to the right by 10, leading to 2**0, or 1\n",
    "2**10 >> 10"
   ]
  },
  {
   "cell_type": "code",
   "execution_count": null,
   "metadata": {},
   "outputs": [],
   "source": [
    "# blist defined previously, this is a functional expression using the built-in 'sum' function.\n",
    "sum(blist)"
   ]
  },
  {
   "cell_type": "code",
   "execution_count": null,
   "metadata": {},
   "outputs": [],
   "source": [
    "s + ' ' + d[17]"
   ]
  },
  {
   "cell_type": "markdown",
   "metadata": {},
   "source": [
    "In the last cell observe the add operator `+` being used to \"add\" `str` type objects. This example of *operator overloading* is something we'll cover in more detail as we define our own object types. Defining such overloading for your own types can allow you to do a lot with very little Python code."
   ]
  },
  {
   "cell_type": "markdown",
   "metadata": {},
   "source": [
    "<a id='conditionals'></a>\n",
    "&nbsp;\n",
    "## Conditionals\n",
    "\n",
    "Up to this point we have been dealing with code segments that are really just simple expressions, combinations of variables and function calls. We could construct procedural solutions for a variety of problems using just these elements. \n",
    "\n",
    "Another key programming language requirement is to support conditional execution, where the thread of execution depends of the current state of execution. Such `if/else` statements allow us to look at what is being computed and *decide* to do one thing or another.\n",
    "\n",
    "In this example we'll also use the [`input`](https://docs.python.org/3.8/library/functions.html#input) function to get user (your) input. With a human in the loop, there's no telling what will happen! We'll also use [f-strings](https://docs.python.org/3.8/tutorial/inputoutput.html) for output (read more about f-strings [here](https://realpython.com/python-f-strings/)). "
   ]
  },
  {
   "cell_type": "code",
   "execution_count": null,
   "metadata": {},
   "outputs": [],
   "source": [
    "n = input('Pick a number in [0,100]: ')\n",
    "\n",
    "print(f'You gave me {n}')"
   ]
  },
  {
   "cell_type": "code",
   "execution_count": null,
   "metadata": {},
   "outputs": [],
   "source": [
    "n, type(n)"
   ]
  },
  {
   "cell_type": "markdown",
   "metadata": {},
   "source": [
    "You can see we'll have to cast the input to a number, like an `int` type, in order to ask about the input's value. \n",
    "\n",
    "By the way, if you didn't enter a number above when prompted, you could receive an error below."
   ]
  },
  {
   "cell_type": "code",
   "execution_count": null,
   "metadata": {},
   "outputs": [],
   "source": [
    "n = int(n)"
   ]
  },
  {
   "cell_type": "code",
   "execution_count": null,
   "metadata": {},
   "outputs": [],
   "source": [
    "if n < 50:\n",
    "    print('You picked a number less than 50.')\n",
    "else:\n",
    "    print('You picked a number at least 50.')"
   ]
  },
  {
   "cell_type": "markdown",
   "metadata": {},
   "source": [
    "In the above we check if the input was less than 50, and based on that condition, we print one output or another. We can also combine multiple possibilities."
   ]
  },
  {
   "cell_type": "code",
   "execution_count": null,
   "metadata": {},
   "outputs": [],
   "source": [
    "if n < 25:\n",
    "    print(f'{n} is less than 25.')\n",
    "elif n < 50:\n",
    "    print(f'{n} is in [25, 50).')\n",
    "elif n < 75:\n",
    "    print(f'{n} is in [50,75).')\n",
    "else:\n",
    "    print(f'{n} is greater than 75.')"
   ]
  },
  {
   "cell_type": "markdown",
   "metadata": {},
   "source": [
    "<a id='loops'></a>\n",
    "&nbsp;\n",
    "## Loops and Iteration\n",
    "\n",
    "Every useful programming language provides a means of iterating over sequences or collections. This allows us for example to write a little code that gets executed a lot of times, very useful when we need to do something a large number of times (for every element in a list, for every key in a dictionary, for every character in a string, for every line in a file, ...). "
   ]
  },
  {
   "cell_type": "code",
   "execution_count": null,
   "metadata": {},
   "outputs": [],
   "source": [
    "someString = 'A nim-nim was a banana-like fruit on Booboo.'\n",
    "print(someString.split())"
   ]
  },
  {
   "cell_type": "code",
   "execution_count": null,
   "metadata": {},
   "outputs": [],
   "source": [
    "for word in someString.split():\n",
    "    print(word)"
   ]
  },
  {
   "cell_type": "markdown",
   "metadata": {},
   "source": [
    "Above we take a `str` variable and call [`str.split()`](https://docs.python.org/3.8/library/stdtypes.html?highlight=split#str.split) on it, which returns a list of the words in the string. We can then loop over the elements of this list (the words of the original string). (ref. [The Sisters B-36](https://www.reddit.com/r/a:t5_31ywq/comments/26sypy/the_sisters_b36/))\n",
    "\n",
    "We could also use a for loop to, for example, count the number of times a particular letter shows up in a string:"
   ]
  },
  {
   "cell_type": "code",
   "execution_count": null,
   "metadata": {},
   "outputs": [],
   "source": [
    "count = 0\n",
    "lookfor = 'i'\n",
    "for c in someString:\n",
    "    if c == lookfor:\n",
    "        count += 1\n",
    "print(count)"
   ]
  },
  {
   "cell_type": "markdown",
   "metadata": {},
   "source": [
    "Such common actions as counting occurances often have Built-ins in Python (e.g., [`someString.count('i')`](https://docs.python.org/3.8/library/stdtypes.html#str.count) above).\n",
    "\n",
    "Python also uses some of the same looping syntax in [list comprehensions](https://www.geeksforgeeks.org/comprehensions-in-python/). For example, we could use either a for loop or a list comprehension to generate the list of the first 20 perfect squares."
   ]
  },
  {
   "cell_type": "code",
   "execution_count": null,
   "metadata": {},
   "outputs": [],
   "source": [
    "for_list = []\n",
    "for x in range(1,21):\n",
    "    for_list.append(x**2)\n",
    "    \n",
    "# List comprehension here.\n",
    "comp_list = [x**2 for x in range(1,21)]\n",
    "\n",
    "print(f'for list          : {for_list}')\n",
    "print(f'comprehension list: {comp_list}')\n",
    "\n",
    "print(f'The lists {\"are\" if for_list==comp_list else \"are NOT\"} equal.')"
   ]
  },
  {
   "cell_type": "markdown",
   "metadata": {},
   "source": [
    "The above cell also includes a pretty complicated f-string. The conditional expression `x if cond else y` evaluates to `x` when `cond` is `True` or else `y` if `cond` is `False`. Given the conditional expression in the f-string above, if the two lists were different the expression would evaluate to `\"are NOT\"`.\n",
    "\n",
    "\n",
    "One other form of looping worthy of a note here is the `while` loop. Whereas a for loop usually denotes a fixed or somehow known number of iterations, the while loop does not. We'll demonstrate a while loop through converting a decimal integer to binary.\n",
    "\n",
    "```\n",
    "initialization\n",
    "while condition:\n",
    "    body\n",
    "    update\n",
    "```\n",
    "\n",
    "#### Converting Decimal to Binary\n",
    "\n",
    "If types like `int` and `float` are *atomic* in the analogy at the beginning of this notebook, then binary digits--*bits*--are the subatomic particles that give meaning and substance to these atoms. Indeed, deep under the hood, all software in the modern computer, all functions/variables/lists/conditionals/whatever, consists entirely of bits and only bits. With that in mind let's take a moment to understand how decimal numbers are related to their binary representations."
   ]
  },
  {
   "cell_type": "code",
   "execution_count": null,
   "metadata": {},
   "outputs": [],
   "source": [
    "bin(11)"
   ]
  },
  {
   "cell_type": "code",
   "execution_count": null,
   "metadata": {},
   "outputs": [],
   "source": [
    "for x in range(16):\n",
    "    print(f'{x:02d}: {x:04b}')\n",
    "#     print(f'{x:02d}: {bin(x)[2:].zfill(4):>s}') "
   ]
  },
  {
   "cell_type": "markdown",
   "metadata": {},
   "source": [
    "The built-in [`bin`](https://docs.python.org/3.8/library/functions.html#bin) converts integers to a binary string. You can see above that the powerful f-string is doing what we want to know how to do, which is represent an integer as a string of bits--see `{x:04b}`. But to do it ourselves let's note a couple of things:\n",
    "- If a number is odd its right-most bit must be `1`. This makes sense because the only power of two that is odd is $2^0$, and in binary we're representing a number as a sum of the powers of two. \n",
    "- In decimal when you divide by ten you have the same digit sequence, but the right-most digit is lost (e.g.: note that `328//10` is `32`). Similarly if we divide a number by two, the result's binary representation is the same digit sequence except lost, right-most bit: e.g. $1101 (13_{10}) // 2 = 110(6_{10})$  \n",
    "\n",
    "With these two things in mind, we can envision computing a binary representation from right to left by determining oddness (if the number is odd, the rightmost bit is a `1`), then integer dividing by 2, then looping back. This can continue as long as the integer is larger than zero. So this process has an indeterminate number of iterations."
   ]
  },
  {
   "cell_type": "code",
   "execution_count": null,
   "metadata": {},
   "outputs": [],
   "source": [
    "n = int(input('Enter a positive number: '), 10)\n",
    "orig_n = n\n",
    "\n",
    "bin_string = ''\n",
    "while n > 0:\n",
    "    bin_string = str(n%2) + bin_string\n",
    "    n = n//2\n",
    "\n",
    "print(f'{orig_n} in binary is: {bin_string}.')"
   ]
  },
  {
   "cell_type": "markdown",
   "metadata": {},
   "source": [
    "Note that 1.) `input` returns a string, which we must interpret as an integer using the [`int`](https://docs.python.org/3.8/library/functions.html#int) function; and 2.) in the process of the while loop, `n` is destroyed, so we needed a copy of it, `orig_n`, so that the final print statement makes sense. The extra variable is not strictly necessary, as we could have `print`ed the first\n",
    "\n",
    "That was a long walk for a three line `while` loop. "
   ]
  },
  {
   "cell_type": "markdown",
   "metadata": {},
   "source": [
    "<a id='functions'></a>\n",
    "&nbsp;\n",
    "## Functional Abstraction\n",
    "\n",
    "Functional abstraction allows us to give a name to some proceedure we've written up, and thereafter refer to that proceedure using the name. In Python this is super easy: let's wrap up our decimal-to-binary conversion code from above:"
   ]
  },
  {
   "cell_type": "code",
   "execution_count": null,
   "metadata": {},
   "outputs": [],
   "source": [
    "def dec2bin(n):\n",
    "    bin_string = ''\n",
    "    while n > 0:\n",
    "        bin_string = str(n%2) + bin_string\n",
    "        n = n//2\n",
    "    return bin_string"
   ]
  },
  {
   "cell_type": "code",
   "execution_count": null,
   "metadata": {},
   "outputs": [],
   "source": [
    "for x in range(16):\n",
    "    print(f'{x:02d}: {x:04b}: {dec2bin(x).zfill(4):s}')"
   ]
  },
  {
   "cell_type": "code",
   "execution_count": null,
   "metadata": {},
   "outputs": [],
   "source": [
    "print('7'.zfill(3))\n",
    "print('silly'.zfill(10))"
   ]
  },
  {
   "cell_type": "markdown",
   "metadata": {},
   "source": [
    "From the above you see we basically pasted the conversion code into a little syntax like so:\n",
    "```\n",
    "def name(args):\n",
    "    # do something with the args, or don't. whatever\n",
    "    # then return something, or don't.\n",
    "    body\n",
    "    return something \n",
    "```\n",
    "\n",
    "Note that if you don't `return` anything, that's the same as `return`ing `None`. For example, in the above cells, `dec2bin(x)` returns a string with the binary representation of the provided `x`, while [`zfill`](https://docs.python.org/3/library/stdtypes.html#str.zfill) is a string function that returns the string filled to a provided length with zeros.\n",
    "\n",
    "Let's make another function or two with some old code that makes a list of squares."
   ]
  },
  {
   "cell_type": "code",
   "execution_count": null,
   "metadata": {},
   "outputs": [],
   "source": [
    "def squares_list(n):\n",
    "    return [x**2 for x in range(1,n+1)]\n",
    "\n",
    "def yield_squares_list(n):\n",
    "    for x in range(1, n+1):\n",
    "        yield x**2"
   ]
  },
  {
   "cell_type": "code",
   "execution_count": null,
   "metadata": {},
   "outputs": [],
   "source": [
    "print(squares_list(20))"
   ]
  },
  {
   "cell_type": "code",
   "execution_count": null,
   "metadata": {},
   "outputs": [],
   "source": [
    "print(yield_squares_list(20))"
   ]
  },
  {
   "cell_type": "code",
   "execution_count": null,
   "metadata": {},
   "outputs": [],
   "source": [
    "for n in yield_squares_list(20):\n",
    "    print(f'{n}, ', end='')"
   ]
  },
  {
   "cell_type": "code",
   "execution_count": null,
   "metadata": {},
   "outputs": [],
   "source": [
    "print(list(yield_squares_list(20)))"
   ]
  },
  {
   "cell_type": "markdown",
   "metadata": {},
   "source": [
    "In the above cells I've snuck in a little more advanced Python. Notice that while `squares_list` returns a list of squares (with list comprehension code we stole from [Loops and Iteration](#loops) above), `yield_squares_list` returns a *generator object* that we must iterate over to see, or else use [`list`](https://docs.python.org/3.8/library/functions.html#func-list) to make a list out of. You can read more about creating your own generators [here](https://realpython.com/introduction-to-python-generators/), but initially know that a function that `yield`s values can be used as a generator. Using generators can be much more efficient in Python as the number of elements in the *iterable* grows larger (e.g., if we wanted the first 1M squares). "
   ]
  },
  {
   "cell_type": "markdown",
   "metadata": {},
   "source": [
    "<a id='objects'></a>\n",
    "&nbsp;\n",
    "## Data Abstraction\n",
    "\n",
    "Given all the data types, expressions, conditionals, loops, and functional abstraction that we've now explored, we're left with the last big piece, *data abstraction*. Through data abstraction, you the programmer can define new concepts/data types that are composites of those already available. \n",
    "\n",
    "**Object-oriented programming is about formalizing/simulating** the properties and behaviors of *objects* in a computer program. These objects we're simulating can be **pretty much any noun**. (Proper nouns might be specific instances of such object-types, so that the Empire State Building is a specific instance of a Building object-type, or you are a specific instance of a person, or whatever...)\n",
    "\n",
    "Let's start simple: take a `rectangle`. Let's recognize that a rectangle is define by its `height` and `width`. These are the core properties of any self-respecting object that would call itself a rectangle. When we define the `class rectangle` in Python, it's because we want to simulate rectangles in a computer program (e.g., this notebook...this is getting a little meta...let's move on)"
   ]
  },
  {
   "cell_type": "code",
   "execution_count": null,
   "metadata": {},
   "outputs": [],
   "source": [
    "class Rectangle(object):\n",
    "    def __init__(self, input_h, input_w):\n",
    "        '''\n",
    "        This method defines what happens when a \n",
    "        Rectangle is created.\n",
    "        '''\n",
    "        self.height = input_h\n",
    "        self.width = input_w\n",
    "    \n",
    "    def __str__(self):\n",
    "        '''\n",
    "        This method should return a string that\n",
    "        represents this specific object, self, which is\n",
    "        an instance of a Rectangle.\n",
    "        '''\n",
    "        return f'[Rectangle {self.height} x {self.width}]'\n",
    "    "
   ]
  },
  {
   "cell_type": "code",
   "execution_count": null,
   "metadata": {},
   "outputs": [],
   "source": [
    "r = Rectangle(5,10)\n",
    "s = Rectangle(3,12)"
   ]
  },
  {
   "cell_type": "code",
   "execution_count": null,
   "metadata": {},
   "outputs": [],
   "source": [
    "print(f'r is {r} and s is {s}')"
   ]
  },
  {
   "cell_type": "code",
   "execution_count": null,
   "metadata": {},
   "outputs": [],
   "source": [
    "s, r"
   ]
  },
  {
   "cell_type": "code",
   "execution_count": null,
   "metadata": {},
   "outputs": [],
   "source": [
    "str(s)"
   ]
  },
  {
   "cell_type": "markdown",
   "metadata": {},
   "source": [
    "As you can see, we've defined a `Rectangle` class or object-type through only\n",
    "- what happens when a `Rectangle` is instantiated/created: this is the code within the `__init__` class method.\n",
    "- what happens when we try to `print` a specific Rectangle object: the [`__str__`](https://docs.python.org/3.8/reference/datamodel.html#object.__str__) method should return some readable string of information about the object. Even this method definition is not technically necessary: you might try to re-execute with the `__str__` method commented out. There's a more formal representation method that comes automatically, [`__repr__`](https://www.geeksforgeeks.org/str-vs-repr-in-python/), but you could redefine that as well.\n",
    "\n",
    "This simple rectangle object-type doesn't do much: "
   ]
  },
  {
   "cell_type": "code",
   "execution_count": null,
   "metadata": {},
   "outputs": [],
   "source": [
    "r.area()"
   ]
  },
  {
   "cell_type": "code",
   "execution_count": null,
   "metadata": {},
   "outputs": [],
   "source": [
    "r.perimeter()"
   ]
  },
  {
   "cell_type": "code",
   "execution_count": null,
   "metadata": {},
   "outputs": [],
   "source": [
    "r < s"
   ]
  },
  {
   "cell_type": "code",
   "execution_count": null,
   "metadata": {},
   "outputs": [],
   "source": [
    "r + s"
   ]
  },
  {
   "cell_type": "markdown",
   "metadata": {},
   "source": [
    "Well this is obviously getting kind of frustrating. If we're going to want our imaginary Rectangle's to do these kinds of things (compute their own area or perimeter, or determine their relationship to other Rectangle's), we're going to have to define precisely what these behaviors are through more method definitions..."
   ]
  },
  {
   "cell_type": "code",
   "execution_count": null,
   "metadata": {},
   "outputs": [],
   "source": [
    "class Rectangle(object):\n",
    "    def __init__(self, input_h, input_w):\n",
    "        self.height = input_h\n",
    "        self.width = input_w\n",
    "    \n",
    "    def __str__(self):\n",
    "        return f'[Rectangle {self.height} x {self.width}]'\n",
    "    \n",
    "    def area(self):\n",
    "        return self.height * self.width\n",
    "    \n",
    "    def perimeter(self):\n",
    "        return 2*(self.height + self.width)\n",
    "    \n",
    "    def __lt__(self, other): \n",
    "        '''\n",
    "        __lt__(self, other): if our area is less than\n",
    "        the other's area, then return True. \n",
    "        lt = less than, whatever than means for\n",
    "        Rectangles.\n",
    "        '''\n",
    "        return self.area() < other.area()\n",
    "    \n",
    "    def __add__(self, other):\n",
    "        '''\n",
    "        __add__(self, other): I really don't know\n",
    "        what it means to add two Rectangles together.\n",
    "        But certainly if we add two Rectangles, \n",
    "        we get a different Rectangle, right?\n",
    "        '''\n",
    "        scale_amt = (self.area() + other.area())/self.area()\n",
    "        scale_amt = scale_amt**.5 # square root? sure, why not.\n",
    "        return Rectangle(self.height*scale_amt,\n",
    "                         self.width*scale_amt)\n",
    "        "
   ]
  },
  {
   "cell_type": "code",
   "execution_count": null,
   "metadata": {},
   "outputs": [],
   "source": [
    "r = Rectangle(5,10)\n",
    "s = Rectangle(3,12)"
   ]
  },
  {
   "cell_type": "code",
   "execution_count": null,
   "metadata": {},
   "outputs": [],
   "source": [
    "r.area()"
   ]
  },
  {
   "cell_type": "code",
   "execution_count": null,
   "metadata": {},
   "outputs": [],
   "source": [
    "s.perimeter()"
   ]
  },
  {
   "cell_type": "code",
   "execution_count": null,
   "metadata": {},
   "outputs": [],
   "source": [
    "r < s"
   ]
  },
  {
   "cell_type": "code",
   "execution_count": null,
   "metadata": {},
   "outputs": [],
   "source": [
    "print(f'r < s is {r < s} because r\\'s area is {r.area()} and s\\'s area is {s.area()}.')"
   ]
  },
  {
   "cell_type": "code",
   "execution_count": null,
   "metadata": {},
   "outputs": [],
   "source": [
    "r+s"
   ]
  },
  {
   "cell_type": "code",
   "execution_count": null,
   "metadata": {},
   "outputs": [],
   "source": [
    "print(r+s)"
   ]
  },
  {
   "cell_type": "code",
   "execution_count": null,
   "metadata": {},
   "outputs": [],
   "source": [
    "(r+s).area()"
   ]
  },
  {
   "cell_type": "markdown",
   "metadata": {},
   "source": [
    "Python has many [special method names](https://docs.python.org/3.8/reference/datamodel.html#special-method-names) that you can choose to define for your classes (e.g., the \"less than\" operator). You can also define what [arithmetic on your objects](https://docs.python.org/3.8/reference/datamodel.html#emulating-numeric-types) means through method definitions like `__add__` above.\n",
    "- I chose for `r < s` to mean \"Is the area of `r` less than the area of `s`.\" Since the areas are numbers, Python already knew how to compare those.\n",
    "- `r + s` evaluates to a new `Rectangle` object whose area is the sum of the two rectangles' areas. \n",
    "\n",
    "The definitions of `__lt__` and `__add__` here were completely arbitrary for this example. When you attempt to simulate rectangles for your own purposes in computer programs, you can define for yourself what these operators should mean. \n",
    "\n",
    "Also note that none of the methods we defined will change `self.height` or `self.width`. The result is that our rectangle are immutable (like `int`, `float`, `str`, ...) in that they cannot change once they've been instantiated. \n",
    "\n",
    "This notebook is not the whole book, so we won't try to cover all the gory details in one place. This is a good start."
   ]
  },
  {
   "cell_type": "code",
   "execution_count": null,
   "metadata": {},
   "outputs": [],
   "source": []
  }
 ],
 "metadata": {
  "kernelspec": {
   "display_name": "Python 3",
   "language": "python",
   "name": "python3"
  },
  "language_info": {
   "codemirror_mode": {
    "name": "ipython",
    "version": 3
   },
   "file_extension": ".py",
   "mimetype": "text/x-python",
   "name": "python",
   "nbconvert_exporter": "python",
   "pygments_lexer": "ipython3",
   "version": "3.7.6"
  }
 },
 "nbformat": 4,
 "nbformat_minor": 4
}
