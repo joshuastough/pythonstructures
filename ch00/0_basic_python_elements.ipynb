{
 "cells": [
  {
   "cell_type": "markdown",
   "metadata": {},
   "source": [
    "# Basic Python Elements\n",
    "\n",
    "Most [useful](https://en.wikipedia.org/wiki/Turing_completeness) programming languages offer formal syntax for *six* elements of algorithms. With just these six elements, you can exactly define for the computer any process.\n",
    "\n",
    "algorithm \n",
    "concept\n",
    "statement\n",
    "process/subprocess\n",
    "thread of execution\n",
    "\n",
    "## Six Elements of Programming Languages\n",
    "1. [**Variables**](#variables): You can assign a name to a specific data object. The data object is further an instance of a concept or *data type*. `x` and `y` are variables representing specific numbers.\n",
    "1. [**Expressions**](#expressions): In its simplest form, you can combine variables through *operators*. For example, `x + y` is the addition of the variables `x` and `y`. The word \"expression\" here is doing some pretty heavy lifting however: any bit of code that evaluates to a specific data object (with associated type) can be thought of as an expression: e.g, the above expression `x + y` evaluates to another number that is specific given the values of `x` and `y` at the moment of evaluation.\n",
    "1. [**Conditionals**](#condtitionals): You can change the thread of execution based on the current state of execution. `if` `x < y`, then do one thing, or `else` do something else. `x < y` is a *conditional expression*, and `if/else` are keywords that separate the threads of execution represented by doing \"one thing\" or \"something else.\" \n",
    "1. [**Loops**](#loops): You can repeat some subprocess either a fixed number of times or until some condition is met.\n",
    "1. [**Functional Abstraction**](#functions): You can assign a name to a specific process. In `def f(x,y)`, `f` is the name of a function that accepts `x` and `y` as parameters. Whatever sequence of devious things are done to `x` and `y`, we have assigned that sequence the name `f`, both for ease of use and to allow us to contruct even more complicated functions that make use of `f`.  Also `f(x,y)` can be called an *expression* that evaluates to whatever the function `f` returns.\n",
    "1. [**Data Abstraction**](#objects): You can define new concepts/data types that are composites of those already available. For example, we can define a `pair` of numbers `(x, y)` as the composite of `x` and `y`. With these new data types defined, you can make all the other elements of the programming language more powerful."
   ]
  },
  {
   "cell_type": "markdown",
   "metadata": {},
   "source": [
    "<a id='variables'></a>\n",
    "&nbsp;\n",
    "# Variables\n",
    "For more details about variables, types, and state, see [here](1_variables_types_state.ipynb).\n",
    "\n",
    "Variables are names that we assign to specific data objects. Some atomic, or very basic, *data types* are already provided by Python: \n",
    "- `int`: integer or whole number data type, or what in math might be denoted by $\\mathbb{Z}$. \n",
    "- `str`: string type, a sequence of characters.\n",
    "- `float`: decimal numbers, $\\mathbb{R}$.\n",
    "- `bool`: boolean, or truth values. There are only two possible values: true or false.  "
   ]
  },
  {
   "cell_type": "code",
   "execution_count": 2,
   "metadata": {},
   "outputs": [],
   "source": [
    "x = 5\n",
    "s = 'hello'\n",
    "y = 20.001\n",
    "a = True "
   ]
  },
  {
   "cell_type": "markdown",
   "metadata": {},
   "source": [
    "In the above cell, we perform several *assignment statements*, where an `=` sign separates a variable name on the left and some expression on the right. For example, the first statement assigns the variable `x` the value 5, while the second assigns the variable `s` the string value 'hello'. After executing the above cell (through **Shift+Enter**), we can print the value of any variable. For example:"
   ]
  },
  {
   "cell_type": "code",
   "execution_count": 7,
   "metadata": {},
   "outputs": [
    {
     "data": {
      "text/plain": [
       "20.001"
      ]
     },
     "execution_count": 7,
     "metadata": {},
     "output_type": "execute_result"
    }
   ],
   "source": [
    "# Execute the cell with Shift+Enter\n",
    "y"
   ]
  },
  {
   "cell_type": "code",
   "execution_count": 8,
   "metadata": {},
   "outputs": [
    {
     "name": "stdout",
     "output_type": "stream",
     "text": [
      "hello\n"
     ]
    }
   ],
   "source": [
    "print(s)"
   ]
  },
  {
   "cell_type": "markdown",
   "metadata": {},
   "source": [
    "We can also display the types of the variables. "
   ]
  },
  {
   "cell_type": "code",
   "execution_count": 5,
   "metadata": {},
   "outputs": [
    {
     "data": {
      "text/plain": [
       "int"
      ]
     },
     "execution_count": 5,
     "metadata": {},
     "output_type": "execute_result"
    }
   ],
   "source": [
    "# should display 'int'\n",
    "type(x) "
   ]
  },
  {
   "cell_type": "code",
   "execution_count": 6,
   "metadata": {},
   "outputs": [
    {
     "data": {
      "text/plain": [
       "str"
      ]
     },
     "execution_count": 6,
     "metadata": {},
     "output_type": "execute_result"
    }
   ],
   "source": [
    "type(s)"
   ]
  },
  {
   "cell_type": "markdown",
   "metadata": {},
   "source": [
    "From the above cells we see `x` has `int`/integer type, while `s` has `str`/string type. Several things to note about the above few cells:\n",
    "- In one of the cells, I have added a *comment*, `#<text>`. Anything coming after a `#` on a line is not interpretted by the Python kernel. \n",
    "- Note that `type` is actually the name of a [function](#functions) that returns the type of the argument sent in, and `print` is the name of a function that prints out the value of the argument sent in.\n",
    "- Immutablity: objects of the types above *cannot be modified*. Think of it: if you add 1 to a number, you have a *different* number; if you try to change one character of a string, you have a *different* string. Note that reassigning a variable name, as in the statement `x = 1 + x`, is completely consistent with this immutability: the expression on the right of `=` is evaluated before the reassignment of the variable name on the left. For more, please see [here](1_variables_types_state.ipynb). \n",
    "- The `str`/string type can actually be thought of as an ordered sequence of characters. This type is thus not particularly \"atomic,\" in the sense of being inseparable, in the same way that a number or a truth value are. Still, because Python does not include an individual character type, it is useful to group `str` with the other atomic types above. For much more on the `str` type and string processing capability of Python, see [here](2_strings.ipynb)."
   ]
  },
  {
   "cell_type": "markdown",
   "metadata": {},
   "source": [
    "## Collection types and the F.A.R.M. operations\n",
    "As I repeatedly note throughout, in this course we think deeply about the ***efficient interaction with and manipulation of collections of stuff***. A topic left for later is how the organization of data within the collection affects this efficiency of interaction/manipulation.\n",
    "\n",
    "There are four principal operations for interacting with and manipulating any collection of stuff, that we will call the ***F.A.R.M ops: find, add, remove, modify***. As an example, consider the backpack as a collection of stuff (near and dear to us all, I know). What are the things we do with this collection of stuff?\n",
    "- **Find**: Find something in the backpack and/or determine whether that something is in the backpack.\n",
    "- **Add**: Add something to the backpack.\n",
    "- **Remove**: Remove something from the backpack.\n",
    "- **Modify**: Stretching the example a bit, you might want to add pencils to the pencil case, or otherewise modify one of the things already in the backpack. This is perhaps more of a derivative operation, in that it can be acheived through a composite find->remove->add. This is also commonly referred to as \"update.\"\n",
    "\n",
    "Python provides some native data types that can already represent collections of stuff, complicated enough to be called *structures* in the parlance of this book. These include:\n",
    "- [`list`](2_lists.ipynb): an ordered sequence of elements, where each element can be of any type. Elements can be accessed and manipulated through numerical indexing. For more on the `list` type, see [here](2_lists.ipynb) or the link at the beginning of this bullet.\n",
    "- [`dict`](2_dicts.ipynb): also called a dictionary, or associative array. This structure represents a collection of `key:value` pairs where no two `key`s are the same within a particular dictionary (instance). Values within the `dict` can be accessed and manipulated through the associated key. For more on the `dict` type, see [here](2_dicts.ipynb).\n",
    "- [`tuple`](2_tuples.ipynb): very much like a list, except that the elements in a tuple cannot be changed once you have made the tuple (immutability). See the link at the beginning of this list item.\n",
    "- [`set`](2_sets.ipynb): unordered collection of *unique* elements. \n",
    "\n",
    "[`tuple`](2_tuples.ipynb) and [`set`](2_sets.ipynb) types are initially covered in more depth [elsewhere](variables_types_state.ipynb). I'll only highlight some `list` and `dict` syntax here.\n",
    "\n",
    "\n",
    "### Lists\n",
    "Consider the list example:"
   ]
  },
  {
   "cell_type": "code",
   "execution_count": 31,
   "metadata": {},
   "outputs": [],
   "source": [
    "alist = []"
   ]
  },
  {
   "cell_type": "markdown",
   "metadata": {},
   "source": [
    "Here, `alist` is assigned to an empty list. Note that square brackets `[]`denote the list. Inside the brackets is a comma-delimited sequence of elements."
   ]
  },
  {
   "cell_type": "code",
   "execution_count": 32,
   "metadata": {},
   "outputs": [],
   "source": [
    "blist = [0, 1, 1, 2, 3]"
   ]
  },
  {
   "cell_type": "markdown",
   "metadata": {},
   "source": [
    "After executing the above cell, `blist` is a list containing the first five [Fibonacci](https://www.mathsisfun.com/numbers/fibonacci-sequence.html) numbers. Not all of the elements of a list need be the same type, though."
   ]
  },
  {
   "cell_type": "code",
   "execution_count": 33,
   "metadata": {},
   "outputs": [],
   "source": [
    "ll = [12.1, 5, 'goodbye', [1,2,3], False]"
   ]
  },
  {
   "cell_type": "markdown",
   "metadata": {},
   "source": [
    "In the above cell, the variable name `ll` is assigned to a list containing an assortment of five data elements. These elements can be accessed through zero-based numerical indexing using square brackets []:"
   ]
  },
  {
   "cell_type": "code",
   "execution_count": 34,
   "metadata": {},
   "outputs": [
    {
     "data": {
      "text/plain": [
       "12.1"
      ]
     },
     "execution_count": 34,
     "metadata": {},
     "output_type": "execute_result"
    }
   ],
   "source": [
    "ll[0]"
   ]
  },
  {
   "cell_type": "code",
   "execution_count": 35,
   "metadata": {},
   "outputs": [
    {
     "data": {
      "text/plain": [
       "'goodbye'"
      ]
     },
     "execution_count": 35,
     "metadata": {},
     "output_type": "execute_result"
    }
   ],
   "source": [
    "ll[2]"
   ]
  },
  {
   "cell_type": "code",
   "execution_count": 36,
   "metadata": {},
   "outputs": [
    {
     "data": {
      "text/plain": [
       "[1, 2, 3]"
      ]
     },
     "execution_count": 36,
     "metadata": {},
     "output_type": "execute_result"
    }
   ],
   "source": [
    "# ll[3] is a whole list on its own!\n",
    "ll[3]"
   ]
  },
  {
   "cell_type": "code",
   "execution_count": 37,
   "metadata": {},
   "outputs": [
    {
     "data": {
      "text/plain": [
       "[12.1, 5, 'goodbye', [1, 2, 3], False]"
      ]
     },
     "execution_count": 37,
     "metadata": {},
     "output_type": "execute_result"
    }
   ],
   "source": [
    "ll"
   ]
  },
  {
   "cell_type": "markdown",
   "metadata": {},
   "source": [
    "Notice that the elements of the list `ll` span many types, including a `float` at index 0, a `str` at index 2, and even another `list` at index 3. Note that by executing the cell containing only the variable name `ll`, Colab prints the entire contents of the list, equivalent to prior cells where we use the `print` function. \n",
    "\n",
    "We can also use numerical indexing to modify the contents of `ll`:"
   ]
  },
  {
   "cell_type": "code",
   "execution_count": 38,
   "metadata": {},
   "outputs": [],
   "source": [
    "ll[1] = 'hello'"
   ]
  },
  {
   "cell_type": "code",
   "execution_count": 39,
   "metadata": {},
   "outputs": [
    {
     "name": "stdout",
     "output_type": "stream",
     "text": [
      "[12.1, 'hello', 'goodbye', [1, 2, 3], False]\n"
     ]
    }
   ],
   "source": [
    "print(ll)"
   ]
  },
  {
   "cell_type": "markdown",
   "metadata": {},
   "source": [
    "In the above cells, we have modified the list `ll` by reassigning the element `ll[1]` to be a new data object (in this case, the string `'hello'`), and then printed the list in its now modified state. \n",
    "\n",
    "The `list` type also provides methods that can be accessed through the dot operator `.`:"
   ]
  },
  {
   "cell_type": "code",
   "execution_count": 45,
   "metadata": {},
   "outputs": [
    {
     "data": {
      "text/plain": [
       "[12.1, 'hello', 'goodbye', [1, 2, 3], False, 2020]"
      ]
     },
     "execution_count": 45,
     "metadata": {},
     "output_type": "execute_result"
    }
   ],
   "source": [
    "ll.append(2020)\n",
    "ll"
   ]
  },
  {
   "cell_type": "code",
   "execution_count": 46,
   "metadata": {},
   "outputs": [
    {
     "data": {
      "text/plain": [
       "[12.1, 'something', 'hello', 'goodbye', [1, 2, 3], False, 2020]"
      ]
     },
     "execution_count": 46,
     "metadata": {},
     "output_type": "execute_result"
    }
   ],
   "source": [
    "ll.insert(1,'something')\n",
    "ll"
   ]
  },
  {
   "cell_type": "markdown",
   "metadata": {},
   "source": [
    "The above cells show the use of the `append` and `insert` methods of `list` objects. All available methods can be found through:"
   ]
  },
  {
   "cell_type": "code",
   "execution_count": 48,
   "metadata": {},
   "outputs": [
    {
     "data": {
      "text/plain": [
       "['append',\n",
       " 'clear',\n",
       " 'copy',\n",
       " 'count',\n",
       " 'extend',\n",
       " 'index',\n",
       " 'insert',\n",
       " 'pop',\n",
       " 'remove',\n",
       " 'reverse',\n",
       " 'sort']"
      ]
     },
     "execution_count": 48,
     "metadata": {},
     "output_type": "execute_result"
    }
   ],
   "source": [
    "# Thank you: https://stackoverflow.com/questions/34439/finding-what-methods-a-python-object-has\n",
    "[method_name for method_name in dir(list)\n",
    " if callable(getattr(list, method_name)) and '_' not in method_name]"
   ]
  },
  {
   "cell_type": "markdown",
   "metadata": {},
   "source": [
    "The above cell is obviously over our heads at this point, as it involves a list comprehension, a composite of looping, built-in functions, and conditional expressions. After finishing this notebook, you can work through much more on the `list` type [here](2_lists.ipynb).\n",
    "\n",
    "### Dictionaries\n",
    "A `dict`/dictionary, or associative array, is a collection of `key:value` pairs where the `key`s are unique within a particular `dict` instance. A `dict` is syntactically represented by curly brackets `{}`:"
   ]
  },
  {
   "cell_type": "code",
   "execution_count": 40,
   "metadata": {},
   "outputs": [
    {
     "name": "stdout",
     "output_type": "stream",
     "text": [
      "{}\n"
     ]
    }
   ],
   "source": [
    "d = {}\n",
    "print(d)"
   ]
  },
  {
   "cell_type": "markdown",
   "metadata": {},
   "source": [
    "The variable name `d` here is assigned to an empty dictionary. However, we can add elements to, or find elements in, our dictionary through `[key]` indexing, as in:"
   ]
  },
  {
   "cell_type": "code",
   "execution_count": 41,
   "metadata": {},
   "outputs": [
    {
     "name": "stdout",
     "output_type": "stream",
     "text": [
      "{'a': 50.7, 14.7: True, 17: 'goofy'}\n"
     ]
    }
   ],
   "source": [
    "d['a'] = 50.7\n",
    "d[14.7] = True\n",
    "d[17] = 'goofy'\n",
    "print(d)"
   ]
  },
  {
   "cell_type": "code",
   "execution_count": 42,
   "metadata": {},
   "outputs": [
    {
     "data": {
      "text/plain": [
       "'goofy'"
      ]
     },
     "execution_count": 42,
     "metadata": {},
     "output_type": "execute_result"
    }
   ],
   "source": [
    "# Find/access key 17\n",
    "d[17]"
   ]
  },
  {
   "cell_type": "code",
   "execution_count": 44,
   "metadata": {},
   "outputs": [
    {
     "ename": "KeyError",
     "evalue": "'b'",
     "output_type": "error",
     "traceback": [
      "\u001b[0;31m---------------------------------------------------------------------------\u001b[0m",
      "\u001b[0;31mKeyError\u001b[0m                                  Traceback (most recent call last)",
      "\u001b[0;32m<ipython-input-44-dee353b142fb>\u001b[0m in \u001b[0;36m<module>\u001b[0;34m\u001b[0m\n\u001b[0;32m----> 1\u001b[0;31m \u001b[0md\u001b[0m\u001b[0;34m[\u001b[0m\u001b[0;34m'b'\u001b[0m\u001b[0;34m]\u001b[0m\u001b[0;34m\u001b[0m\u001b[0;34m\u001b[0m\u001b[0m\n\u001b[0m",
      "\u001b[0;31mKeyError\u001b[0m: 'b'"
     ]
    }
   ],
   "source": [
    "# Find key 'b'. An error is thrown when the key is missing.\n",
    "d['b']"
   ]
  },
  {
   "cell_type": "markdown",
   "metadata": {},
   "source": [
    "As you can see, a number of different types of objects can serve as `key` or `value`. `key`s are in fact restricted to be immutable types, such as the `int`, `str`, `float`, and `bool` types seen above, while `value`s can be of any type.\n",
    "\n",
    "We can also see from the above that if the dictionary does not contain the `key`, Python throws an exception type called a `KeyError`. \n",
    "\n",
    "`dict` objects also offer several methods"
   ]
  },
  {
   "cell_type": "code",
   "execution_count": null,
   "metadata": {},
   "outputs": [],
   "source": []
  },
  {
   "cell_type": "code",
   "execution_count": null,
   "metadata": {},
   "outputs": [],
   "source": []
  },
  {
   "cell_type": "markdown",
   "metadata": {},
   "source": [
    "For much more details on the power of lists and dictionaries, click on [`list`](2_lists.ipynb) or [`dict`](2_dicts.ipynb)."
   ]
  },
  {
   "cell_type": "markdown",
   "metadata": {},
   "source": [
    "<a id='expressions'></a>\n",
    "&nbsp;\n",
    "## Expressions\n",
    "\n",
    "Expressions are probably the most broadly defined term here. Expressions can be thought of as any bit of code that evaluates to some kind of \"value.\" We've already seen numerous expressions in the code cells above. "
   ]
  },
  {
   "cell_type": "markdown",
   "metadata": {},
   "source": [
    "<a id='conditionals'></a>\n",
    "&nbsp;\n",
    "## Conditionals\n",
    "\n",
    "Another key programming language requirement is to support conditional execution, where the thread of execution depends of the current state of execution. "
   ]
  },
  {
   "cell_type": "code",
   "execution_count": null,
   "metadata": {},
   "outputs": [],
   "source": []
  },
  {
   "cell_type": "markdown",
   "metadata": {},
   "source": [
    "<a id='loops'></a>\n",
    "&nbsp;\n",
    "## Loops"
   ]
  },
  {
   "cell_type": "code",
   "execution_count": null,
   "metadata": {},
   "outputs": [],
   "source": []
  },
  {
   "cell_type": "markdown",
   "metadata": {},
   "source": [
    "<a id='functions'></a>\n",
    "&nbsp;\n",
    "## Functional Abstraction"
   ]
  },
  {
   "cell_type": "code",
   "execution_count": null,
   "metadata": {},
   "outputs": [],
   "source": []
  },
  {
   "cell_type": "markdown",
   "metadata": {},
   "source": [
    "<a id='objects'></a>\n",
    "&nbsp;\n",
    "## Data Abstraction"
   ]
  },
  {
   "cell_type": "code",
   "execution_count": null,
   "metadata": {},
   "outputs": [],
   "source": []
  }
 ],
 "metadata": {
  "kernelspec": {
   "display_name": "Python 3",
   "language": "python",
   "name": "python3"
  },
  "language_info": {
   "codemirror_mode": {
    "name": "ipython",
    "version": 3
   },
   "file_extension": ".py",
   "mimetype": "text/x-python",
   "name": "python",
   "nbconvert_exporter": "python",
   "pygments_lexer": "ipython3",
   "version": "3.7.6"
  }
 },
 "nbformat": 4,
 "nbformat_minor": 4
}
