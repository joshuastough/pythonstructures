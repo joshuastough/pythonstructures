{
 "cells": [
  {
   "cell_type": "markdown",
   "metadata": {},
   "source": [
    "# Basic Python Elements\n",
    "\n",
    "Most [useful](https://en.wikipedia.org/wiki/Turing_completeness) programming languages offer formal syntax for *six* elements of algorithms. With just these six elements, you can exactly define for the computer any process.\n",
    "\n",
    "algorithm \n",
    "concept\n",
    "statement\n",
    "process/subprocess\n",
    "thread of execution\n",
    "\n",
    "## Six Elements of Programming Languages\n",
    "1. [**Variables**](#variables): You can assign a name to a specific data object. The data object is further an instance of a concept or *data type*. `x` and `y` are variables representing specific numbers.\n",
    "1. [**Expressions**](#expressions): In its simplest form, you can combine variables through *operators*. For example, `x + y` is the addition of the variables `x` and `y`. The word \"expression\" here is doing some pretty heavy lifting however: any bit of code that evaluates to a specific data object (with associated type) can be thought of as an expression: e.g, the above expression `x + y` evaluates to another number that is specific given the values of `x` and `y` at the moment of evaluation.\n",
    "1. [**Conditionals**](#condtitionals): You can change the thread of execution based on the current state of execution. `if` `x < y`, then do one thing, or `else` do something else. `x < y` is a *conditional expression*, and `if/else` are keywords that separate the threads of execution represented by doing \"one thing\" or \"something else.\" \n",
    "1. [**Loops**](#loops): You can repeat some subprocess either a fixed number of times or until some condition is met.\n",
    "1. [**Functional Abstraction**](#functions): You can assign a name to a specific process. In `def f(x,y)`, `f` is the name of a function that accepts `x` and `y` as parameters. Whatever sequence of devious things are done to `x` and `y`, we have assigned that sequence the name `f`, both for ease of use and to allow us to contruct even more complicated functions that make use of `f`.  Also `f(x,y)` can be called an *expression* that evaluates to whatever the function `f` returns.\n",
    "1. [**Data Abstraction**](#objects): You can define new concepts/data types that are composites of those already available. For example, we can define a `pair` of numbers `(x, y)` as the composite of `x` and `y`. With these new data types defined, you can make all the other elements of the programming language more powerful."
   ]
  },
  {
   "cell_type": "markdown",
   "metadata": {},
   "source": [
    "<a id='variables'></a>\n",
    "&nbsp;\n",
    "# Variables\n",
    "For more details about variables, types, and state, see [here](1_variables_types_state.ipynb).\n",
    "\n",
    "Variables are names that we assign to specific data objects. Some atomic, or very basic, *data types* are already provided by Python: \n",
    "- `int`: integer or whole number data type, or what in math might be denoted by $\\mathbb{Z}$. \n",
    "- `str`: string type, a sequence of characters.\n",
    "- `float`: decimal numbers, $\\mathbb{R}$.\n",
    "- `bool`: boolean, or truth values. There are only two possible values: true or false.  "
   ]
  },
  {
   "cell_type": "code",
   "execution_count": null,
   "metadata": {},
   "outputs": [],
   "source": [
    "x = 5\n",
    "s = 'hello'\n",
    "y = 20.001\n",
    "a = True "
   ]
  },
  {
   "cell_type": "markdown",
   "metadata": {},
   "source": [
    "In the above cell, we perform several *assignment statements*, where an `=` sign separates a variable name on the left and some expression on the right. For example, the first statement assigns the variable `x` the value 5, while the second assigns the variable `s` the string value 'hello'. After executing the above cell (through `[Shift]+[Enter]`), we can print the value of any variable, for example:"
   ]
  },
  {
   "cell_type": "code",
   "execution_count": null,
   "metadata": {},
   "outputs": [],
   "source": [
    "print(s)"
   ]
  },
  {
   "cell_type": "markdown",
   "metadata": {},
   "source": [
    "We can also display the types of the variables. "
   ]
  },
  {
   "cell_type": "code",
   "execution_count": null,
   "metadata": {},
   "outputs": [],
   "source": [
    "# should display 'int'\n",
    "type(x) "
   ]
  },
  {
   "cell_type": "code",
   "execution_count": null,
   "metadata": {},
   "outputs": [],
   "source": [
    "type(s)"
   ]
  },
  {
   "cell_type": "markdown",
   "metadata": {},
   "source": [
    "From the above cells we see `x` has `int`/integer type, while `s` has `str`/string type. Several things to note about the above few cells:\n",
    "- In one of the cells, I have added a *comment*, `#<text>`. Anything coming after a `#` on a line is not interpretted by the Python kernel. \n",
    "- Note that `type` is actually the name of a [function](#functions) that returns the type of the argument sent in, and `print` is the name of a function that prints out the value of the argument sent in.\n",
    "- Immutablity: objects of the types above *cannot be modified*. Think of it: if you add 1 to a number, you have a *different* number; if you try to change one character of a string, you have a *different* string. Reassigning a variable name, as in the statement `x = 1 + x`, is completely consistent with this immutability. For more, please see [here](1_variables_types_state.ipynb). \n",
    "- The `str`/string type can actually be thought of as an ordered sequence of characters. This type is thus not particularly \"atomic,\" in the sense of being inseparable, in the same way that a number or a truth value are. Still, because Python does not include an individual character type, it is useful to group `str` with the other atomic types above. For much more on the `str` type and string processing capability of Python, see [here](2_strings.ipynb)."
   ]
  },
  {
   "cell_type": "markdown",
   "metadata": {},
   "source": [
    "## Collection types\n",
    "There are additional native data types provided by Python that represent collections of stuff, complicated enough to be called *structures*. These include\n",
    "- [`list`](2_lists.ipynb): an ordered sequence of elements, where each element can be of any type. Elements can be accessed and manipulated through numerical indexing. For more on the `list` type, see [here](2_lists.ipynb).\n",
    "- [`dict`](2_dicts.ipynb): also called a dictionary, or associative array. This structure represents a collection of (key, value) pairs. Values within the `dict` can be accessed and manipulated through the associated key. For more on the `dict` type, see [here](2_dicts.ipynb).\n",
    "- `tuple`: very much like a list, except that the elements in a tuple cannot be changed once you have made the tuple. \n",
    "- `set`: unordered collection of *unique* elements. \n",
    "\n",
    "`tuple` and `set` types will be covered as needed, and are initially covered in more depth [here](variables_types_state.ipynb). \n",
    "\n",
    "Consider the list example below:"
   ]
  },
  {
   "cell_type": "code",
   "execution_count": null,
   "metadata": {},
   "outputs": [],
   "source": [
    "ll = [12.1, 5, 'hello', [1,2,3], False]"
   ]
  },
  {
   "cell_type": "markdown",
   "metadata": {},
   "source": [
    "In the above cell, the variable name `ll` is assigned to a list containing an assortment of five data elements. These elements can be accessed through zero-based numerical indexing:"
   ]
  },
  {
   "cell_type": "code",
   "execution_count": null,
   "metadata": {},
   "outputs": [],
   "source": [
    "ll[0]"
   ]
  },
  {
   "cell_type": "code",
   "execution_count": null,
   "metadata": {},
   "outputs": [],
   "source": [
    "ll[2]"
   ]
  },
  {
   "cell_type": "code",
   "execution_count": null,
   "metadata": {},
   "outputs": [],
   "source": [
    "# ll[3] is a whole list on its own!\n",
    "ll[3]"
   ]
  },
  {
   "cell_type": "code",
   "execution_count": null,
   "metadata": {},
   "outputs": [],
   "source": [
    "ll"
   ]
  },
  {
   "cell_type": "markdown",
   "metadata": {},
   "source": [
    "Notice that the elements of the list `ll` span many types, including a `float` at index 0, a `str` at index 2, and even another `list` at index 3. Note that by executing the cell containing only the variable name `ll`, Colab prints the entire contents of the list. \n",
    "\n",
    "We can also use numerical indexing to modify the contents of `ll`:"
   ]
  },
  {
   "cell_type": "code",
   "execution_count": null,
   "metadata": {},
   "outputs": [],
   "source": [
    "ll[1] = 'hello'"
   ]
  },
  {
   "cell_type": "code",
   "execution_count": null,
   "metadata": {},
   "outputs": [],
   "source": [
    "ll"
   ]
  },
  {
   "cell_type": "markdown",
   "metadata": {},
   "source": [
    "In the above cells, we have modified the list `ll` by reassigning the element `ll[1]` to be a new data object or value (in this case, the string `'hello'`). \n",
    "\n",
    "Dictionaries are similar, but are no longer ordered, and are indexed through keys...XXX"
   ]
  },
  {
   "cell_type": "code",
   "execution_count": null,
   "metadata": {},
   "outputs": [],
   "source": []
  },
  {
   "cell_type": "code",
   "execution_count": null,
   "metadata": {},
   "outputs": [],
   "source": []
  },
  {
   "cell_type": "code",
   "execution_count": null,
   "metadata": {},
   "outputs": [],
   "source": []
  },
  {
   "cell_type": "markdown",
   "metadata": {},
   "source": [
    "<a id='expressions'></a>\n",
    "&nbsp;\n",
    "## Expressions"
   ]
  },
  {
   "cell_type": "markdown",
   "metadata": {},
   "source": [
    "<a id='conditionals'></a>\n",
    "&nbsp;\n",
    "## Conditionals"
   ]
  },
  {
   "cell_type": "markdown",
   "metadata": {},
   "source": [
    "<a id='loops'></a>\n",
    "&nbsp;\n",
    "## Loops"
   ]
  },
  {
   "cell_type": "markdown",
   "metadata": {},
   "source": [
    "<a id='functions'></a>\n",
    "&nbsp;\n",
    "## Functional Abstraction"
   ]
  },
  {
   "cell_type": "markdown",
   "metadata": {},
   "source": [
    "<a id='objects'></a>\n",
    "&nbsp;\n",
    "## Data Abstraction"
   ]
  },
  {
   "cell_type": "code",
   "execution_count": null,
   "metadata": {},
   "outputs": [],
   "source": []
  }
 ],
 "metadata": {
  "kernelspec": {
   "display_name": "Python 3",
   "language": "python",
   "name": "python3"
  },
  "language_info": {
   "codemirror_mode": {
    "name": "ipython",
    "version": 3
   },
   "file_extension": ".py",
   "mimetype": "text/x-python",
   "name": "python",
   "nbconvert_exporter": "python",
   "pygments_lexer": "ipython3",
   "version": "3.7.6"
  }
 },
 "nbformat": 4,
 "nbformat_minor": 4
}
