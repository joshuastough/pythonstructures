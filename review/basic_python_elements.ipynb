{
 "cells": [
  {
   "cell_type": "markdown",
   "metadata": {},
   "source": [
    "# Basic Python Elements\n",
    "\n",
    "Most [useful](https://en.wikipedia.org/wiki/Turing_completeness) programming languages offer formal syntax for *six* elements of algorithms. With just these six elements, you can exactly define for the computer any process.\n",
    "\n",
    "concept\n",
    "statement\n",
    "process/subprocess\n",
    "thread of execution\n",
    "\n",
    "## Six Elements of Programming Languages\n",
    "1. [**Variables**](#variables): You can assign a name to a specific instance of a concept. `x` and `y` are variables representing specific numbers.\n",
    "1. [**Expressions**](#expressions): You can combine variables through operators. `x + y` is the addition of the variables `x` and `y`.\n",
    "1. [**Conditionals**](#condtitionals): You can change the thread of execution based on the current state of execution. `if` `x < y`, then do one thing, or `else` do something else. `x < y` is a *conditional expression*, `if/else` are keywords that separate the threads of execution represented by doing \"one thing\" or \"something else.\" \n",
    "1. [**Loops**](#loops): You can repeat some subprocess either a fixed number of times or until some condition is met.\n",
    "1. [**Functional Abstraction**](#functions): You can assign a name to a specific process. In `def f(x,y)`, `f` is the name of a function that accepts `x` and `y` as parameters. Whatever sequence of devious things are done to `x` and `y`, we have assigned that sequence the name `f`.  Also `f(x,y)` can be called an *expression* that evaluates to whatever the function `f` returns.\n",
    "1. [**Data Abstraction**](#objects): You can define new concept types that are composites of those already available. For example, we can define a `pair` of numbers `(x, y)` as the composite of `x` and `y`. With these new concept types defined, you can make all the other elements of the programming language more powerful."
   ]
  },
  {
   "cell_type": "markdown",
   "metadata": {},
   "source": [
    "<a id='variables'></a>\n",
    "&nbsp;\n",
    "## Variables"
   ]
  },
  {
   "cell_type": "markdown",
   "metadata": {},
   "source": [
    "<a id='expressions'></a>\n",
    "&nbsp;\n",
    "## Expressions"
   ]
  },
  {
   "cell_type": "markdown",
   "metadata": {},
   "source": [
    "<a id='conditionals'></a>\n",
    "&nbsp;\n",
    "## Conditionals"
   ]
  },
  {
   "cell_type": "markdown",
   "metadata": {},
   "source": [
    "<a id='loops'></a>\n",
    "&nbsp;\n",
    "## Loops"
   ]
  },
  {
   "cell_type": "markdown",
   "metadata": {},
   "source": [
    "<a id='functions'></a>\n",
    "&nbsp;\n",
    "## Functional Abstraction"
   ]
  },
  {
   "cell_type": "markdown",
   "metadata": {},
   "source": [
    "<a id='objects'></a>\n",
    "&nbsp;\n",
    "## Data Abstraction"
   ]
  },
  {
   "cell_type": "code",
   "execution_count": null,
   "metadata": {},
   "outputs": [],
   "source": []
  }
 ],
 "metadata": {
  "kernelspec": {
   "display_name": "Python 3",
   "language": "python",
   "name": "python3"
  },
  "language_info": {
   "codemirror_mode": {
    "name": "ipython",
    "version": 3
   },
   "file_extension": ".py",
   "mimetype": "text/x-python",
   "name": "python",
   "nbconvert_exporter": "python",
   "pygments_lexer": "ipython3",
   "version": "3.7.6"
  }
 },
 "nbformat": 4,
 "nbformat_minor": 4
}
